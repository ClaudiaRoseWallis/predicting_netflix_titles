{
 "cells": [
  {
   "cell_type": "markdown",
   "id": "ed25ea02",
   "metadata": {},
   "source": [
    "<a id=\"id_0\"></a>\n",
    "# Analyse Model Performance\n",
    "## Context\n",
    "**Project Name:** Predict Netflix titles that Mum will watch        \n",
    "**Written by:** Claudia Wallis         \n",
    "**Created:** 27/02/2022           \n",
    "**Last modifed:** 27/02/20212           \n",
    "\n",
    "## Objective\n",
    "**Analyse performance of Model built to identify Netflix titles that Mum will watch**           \n",
    "\n",
    "## Input Data \n",
    "1. model_mum.pkl from 2.build_model.ipynb\n",
    "2. train_mum.pkl from 2.build_model.ipynb\n",
    "3. test_mum.pkl from 2.build_model.ipynb\n",
    "\n",
    "\n",
    "## Table of Contents\n",
    "1. [Set Up](#id_1)\n",
    "    - 1a. Import packages\n",
    "    - 1b. Update variables\n",
    "2. [Load Data](#id_2)\n",
    "    - 2a. Load data\n",
    "    - 2b. Checks\n",
    "3. [Score Data](#id_3)\n",
    "    - 3a. Training set\n",
    "    - 3b. Test set\n",
    "4. [Analyse Decile Distribution](#id_4)\n",
    "    - 4a. Training set\n",
    "    - 4b. Test set\n",
    "5. [Threshold Statistics](#id_5)"
   ]
  },
  {
   "cell_type": "markdown",
   "id": "f2c51f47",
   "metadata": {},
   "source": [
    "<a id=\"id_1\"></a>\n",
    "## 1. Set Up\n",
    "#### 1a) Import packages"
   ]
  },
  {
   "cell_type": "code",
   "execution_count": 1,
   "id": "bde9124d",
   "metadata": {},
   "outputs": [],
   "source": [
    "# base packages\n",
    "import pandas as pd\n",
    "import numpy as np\n",
    "\n",
    "# etc\n",
    "import time\n",
    "import pickle\n",
    "import os\n",
    "import random\n",
    "from random import sample\n",
    "import math\n",
    "\n",
    "# visualisation and data wrangling\n",
    "import seaborn as sns\n",
    "import matplotlib.pyplot as plt\n",
    "from matplotlib.legend_handler import HandlerLine2D\n",
    "from matplotlib.gridspec import GridSpec\n",
    "import chart_studio.plotly as py\n",
    "import plotly.graph_objs as go\n",
    "from plotly.offline import iplot, init_notebook_mode\n",
    "import cufflinks as cf\n",
    "\n",
    "# modeling\n",
    "# from sklearn.model_selection import train_test_split, KFold, cross_val_score, GridSearchCV\n",
    "from sklearn.metrics import classification_report, confusion_matrix, accuracy_score, log_loss\n",
    "from sklearn.metrics import auc, roc_auc_score, roc_curve, f1_score\n",
    "from xgboost import XGBClassifier\n",
    "\n",
    "# pipeline functions\n",
    "os.chdir('C:\\\\Users\\\\claud\\\\Documents\\\\code\\\\')\n",
    "import pipeline; import importlib; importlib.reload(pipeline)\n",
    "from pipeline.fns import data_summary, hex_rgb, deciles, deciles_per_train\n",
    "from pipeline.fns import decile_stats, decile_plot, psi_calc, opt_prob_threshold, threshold_based_metrics\n",
    "\n",
    "# python related\n",
    "import warnings\n",
    "from pandas.core.common import SettingWithCopyWarning\n",
    "warnings.filterwarnings(\"ignore\")\n",
    "warnings.simplefilter(action=\"ignore\", category=SettingWithCopyWarning)"
   ]
  },
  {
   "cell_type": "markdown",
   "id": "92031bfe",
   "metadata": {},
   "source": [
    "#### 1b) Update Variables"
   ]
  },
  {
   "cell_type": "code",
   "execution_count": 2,
   "id": "d106dd8b",
   "metadata": {},
   "outputs": [
    {
     "data": {
      "text/html": [
       "        <script type=\"text/javascript\">\n",
       "        window.PlotlyConfig = {MathJaxConfig: 'local'};\n",
       "        if (window.MathJax) {MathJax.Hub.Config({SVG: {font: \"STIX-Web\"}});}\n",
       "        if (typeof require !== 'undefined') {\n",
       "        require.undef(\"plotly\");\n",
       "        requirejs.config({\n",
       "            paths: {\n",
       "                'plotly': ['https://cdn.plot.ly/plotly-2.9.0.min']\n",
       "            }\n",
       "        });\n",
       "        require(['plotly'], function(Plotly) {\n",
       "            window._Plotly = Plotly;\n",
       "        });\n",
       "        }\n",
       "        </script>\n",
       "        "
      ]
     },
     "metadata": {},
     "output_type": "display_data"
    },
    {
     "data": {
      "text/html": [
       "        <script type=\"text/javascript\">\n",
       "        window.PlotlyConfig = {MathJaxConfig: 'local'};\n",
       "        if (window.MathJax) {MathJax.Hub.Config({SVG: {font: \"STIX-Web\"}});}\n",
       "        if (typeof require !== 'undefined') {\n",
       "        require.undef(\"plotly\");\n",
       "        requirejs.config({\n",
       "            paths: {\n",
       "                'plotly': ['https://cdn.plot.ly/plotly-2.9.0.min']\n",
       "            }\n",
       "        });\n",
       "        require(['plotly'], function(Plotly) {\n",
       "            window._Plotly = Plotly;\n",
       "        });\n",
       "        }\n",
       "        </script>\n",
       "        "
      ]
     },
     "metadata": {},
     "output_type": "display_data"
    },
    {
     "data": {
      "image/png": "[encoded data removed]",
      "text/plain": [
       "<Figure size 216x72 with 1 Axes>"
      ]
     },
     "metadata": {
      "needs_background": "light"
     },
     "output_type": "display_data"
    }
   ],
   "source": [
    "# update paths\n",
    "path = 'C:\\\\Users\\\\claud\\\\Documents\\\\data\\\\'\n",
    "\n",
    "# set seed \n",
    "seed = 24\n",
    "random.seed(seed)\n",
    "\n",
    "# set key colours\n",
    "palette = ['#5543F2', '#E80A72', '#870AE8']\n",
    "sns.set_palette(palette)\n",
    "sns.palplot(sns.color_palette())\n",
    "rgb_palette = hex_rgb(palette)\n",
    "\n",
    "# plotting settings\n",
    "cf.go_offline(connected = True)\n",
    "init_notebook_mode(connected = True)\n",
    "cf.set_config_file(world_readable = False, theme = 'pearl')\n",
    "sns.set_style('dark')\n",
    "\n",
    "# set options\n",
    "pd.set_option('display.max_columns', None)\n",
    "pd.set_option('display.max_colwidth', None)\n",
    "pd.set_option('display.max_rows',None)\n",
    "pd.set_option('float_format', '{:f}'.format)"
   ]
  },
  {
   "cell_type": "markdown",
   "id": "de77c27c",
   "metadata": {},
   "source": [
    "<a id=\"id_2\"></a>\n",
    "## 2. Load Data\n",
    "#### 2a) Load data"
   ]
  },
  {
   "cell_type": "code",
   "execution_count": 3,
   "id": "6d06515d",
   "metadata": {},
   "outputs": [],
   "source": [
    "# load train & test\n",
    "df_train = pd.read_pickle(path + 'output_data//train_mum.pkl')\n",
    "df_test = pd.read_pickle(path + 'output_data//test_mum.pkl')\n",
    "\n",
    "# load model\n",
    "with open(path + 'model_mum_os.pkl', 'rb') as file:\n",
    "    model = pickle.load(file)"
   ]
  },
  {
   "cell_type": "markdown",
   "id": "870721dc",
   "metadata": {},
   "source": [
    "#### 2b) Checks"
   ]
  },
  {
   "cell_type": "code",
   "execution_count": 4,
   "id": "e545bac6",
   "metadata": {
    "scrolled": true
   },
   "outputs": [
    {
     "name": "stdout",
     "output_type": "stream",
     "text": [
      "Train outcome rate = 6.107%\n"
     ]
    },
    {
     "data": {
      "text/plain": [
       "(2882, 109)"
      ]
     },
     "metadata": {},
     "output_type": "display_data"
    },
    {
     "data": {
      "text/html": [
       "<div>\n",
       "<style scoped>\n",
       "    .dataframe tbody tr th:only-of-type {\n",
       "        vertical-align: middle;\n",
       "    }\n",
       "\n",
       "    .dataframe tbody tr th {\n",
       "        vertical-align: top;\n",
       "    }\n",
       "\n",
       "    .dataframe thead th {\n",
       "        text-align: right;\n",
       "    }\n",
       "</style>\n",
       "<table border=\"1\" class=\"dataframe\">\n",
       "  <thead>\n",
       "    <tr style=\"text-align: right;\">\n",
       "      <th></th>\n",
       "      <th>Label</th>\n",
       "      <th>row_count</th>\n",
       "      <th>unique_id_count</th>\n",
       "    </tr>\n",
       "  </thead>\n",
       "  <tbody>\n",
       "    <tr>\n",
       "      <th>0</th>\n",
       "      <td>0</td>\n",
       "      <td>2706</td>\n",
       "      <td>2706</td>\n",
       "    </tr>\n",
       "    <tr>\n",
       "      <th>1</th>\n",
       "      <td>1</td>\n",
       "      <td>176</td>\n",
       "      <td>176</td>\n",
       "    </tr>\n",
       "  </tbody>\n",
       "</table>\n",
       "</div>"
      ],
      "text/plain": [
       "   Label  row_count  unique_id_count\n",
       "0      0       2706             2706\n",
       "1      1        176              176"
      ]
     },
     "metadata": {},
     "output_type": "display_data"
    },
    {
     "name": "stdout",
     "output_type": "stream",
     "text": [
      "Test outcome rate = 6.103%\n"
     ]
    },
    {
     "data": {
      "text/plain": [
       "(721, 109)"
      ]
     },
     "metadata": {},
     "output_type": "display_data"
    },
    {
     "data": {
      "text/html": [
       "<div>\n",
       "<style scoped>\n",
       "    .dataframe tbody tr th:only-of-type {\n",
       "        vertical-align: middle;\n",
       "    }\n",
       "\n",
       "    .dataframe tbody tr th {\n",
       "        vertical-align: top;\n",
       "    }\n",
       "\n",
       "    .dataframe thead th {\n",
       "        text-align: right;\n",
       "    }\n",
       "</style>\n",
       "<table border=\"1\" class=\"dataframe\">\n",
       "  <thead>\n",
       "    <tr style=\"text-align: right;\">\n",
       "      <th></th>\n",
       "      <th>Label</th>\n",
       "      <th>row_count</th>\n",
       "      <th>unique_id_count</th>\n",
       "    </tr>\n",
       "  </thead>\n",
       "  <tbody>\n",
       "    <tr>\n",
       "      <th>0</th>\n",
       "      <td>0</td>\n",
       "      <td>677</td>\n",
       "      <td>677</td>\n",
       "    </tr>\n",
       "    <tr>\n",
       "      <th>1</th>\n",
       "      <td>1</td>\n",
       "      <td>44</td>\n",
       "      <td>44</td>\n",
       "    </tr>\n",
       "  </tbody>\n",
       "</table>\n",
       "</div>"
      ],
      "text/plain": [
       "   Label  row_count  unique_id_count\n",
       "0      0        677              677\n",
       "1      1         44               44"
      ]
     },
     "metadata": {},
     "output_type": "display_data"
    }
   ],
   "source": [
    "# Checks\n",
    "print('Train outcome rate = ' +\n",
    "      str(round(df_train[df_train['Label'] == 1].shape[0]/df_train.shape[0] * 100, 3)) +\n",
    "      '%')\n",
    "display(df_train.shape)\n",
    "display(data_summary(df_train, id_col = 'Title id', gb_col = 'Label'))\n",
    "\n",
    "print('Test outcome rate = ' +\n",
    "      str(round(df_test[df_test['Label'] == 1].shape[0]/df_test.shape[0] * 100, 3)) +\n",
    "      '%')\n",
    "display(df_test.shape)\n",
    "display(data_summary(df_test, id_col = 'Title id', gb_col = 'Label'))"
   ]
  },
  {
   "cell_type": "markdown",
   "id": "7c109b20",
   "metadata": {},
   "source": [
    "<a id=\"id_3\"></a>\n",
    "## 3. Score Data\n",
    "#### 3a) Training set"
   ]
  },
  {
   "cell_type": "code",
   "execution_count": 5,
   "id": "2fe63977",
   "metadata": {},
   "outputs": [],
   "source": [
    "# drop excess columns\n",
    "X_train = df_train.drop(['Label', 'Title id'], axis = 1)\n",
    "df_train.reset_index(drop = True, inplace = True)\n",
    "\n",
    "# get Model predictions\n",
    "train_probs = model.predict_proba(X_train)\n",
    "# predictions = model.predict(X_train)\n",
    "\n",
    "# join probs onto df_train\n",
    "df_train_preds = pd.DataFrame({'label_0_prob' : train_probs[:, 0], 'label_1_prob' : train_probs[:, 1]})\n",
    "df_train_preds = df_train[['Title id', 'Label']].merge(df_train_preds, left_index = True, right_index = True)"
   ]
  },
  {
   "cell_type": "code",
   "execution_count": 6,
   "id": "d0376a59",
   "metadata": {},
   "outputs": [
    {
     "name": "stdout",
     "output_type": "stream",
     "text": [
      "Accuracy = 0.9902845246356696\n",
      "Log Loss = 0.030151391717686726\n",
      "ROC-AUC = 0.9957879795740106\n",
      "Gini = 0.9915759591480211\n",
      "              precision    recall  f1-score   support\n",
      "\n",
      "         0.0       0.99      1.00      0.99      2706\n",
      "         1.0       0.98      0.86      0.92       176\n",
      "\n",
      "    accuracy                           0.99      2882\n",
      "   macro avg       0.99      0.93      0.95      2882\n",
      "weighted avg       0.99      0.99      0.99      2882\n",
      "\n"
     ]
    },
    {
     "data": {
      "text/html": [
       "<div>\n",
       "<style scoped>\n",
       "    .dataframe tbody tr th:only-of-type {\n",
       "        vertical-align: middle;\n",
       "    }\n",
       "\n",
       "    .dataframe tbody tr th {\n",
       "        vertical-align: top;\n",
       "    }\n",
       "\n",
       "    .dataframe thead th {\n",
       "        text-align: right;\n",
       "    }\n",
       "</style>\n",
       "<table border=\"1\" class=\"dataframe\">\n",
       "  <thead>\n",
       "    <tr style=\"text-align: right;\">\n",
       "      <th>Predicted</th>\n",
       "      <th>0.0</th>\n",
       "      <th>1.0</th>\n",
       "      <th>All</th>\n",
       "    </tr>\n",
       "    <tr>\n",
       "      <th>Actual</th>\n",
       "      <th></th>\n",
       "      <th></th>\n",
       "      <th></th>\n",
       "    </tr>\n",
       "  </thead>\n",
       "  <tbody>\n",
       "    <tr>\n",
       "      <th>0.0</th>\n",
       "      <td>2703</td>\n",
       "      <td>3</td>\n",
       "      <td>2706</td>\n",
       "    </tr>\n",
       "    <tr>\n",
       "      <th>1.0</th>\n",
       "      <td>25</td>\n",
       "      <td>151</td>\n",
       "      <td>176</td>\n",
       "    </tr>\n",
       "    <tr>\n",
       "      <th>All</th>\n",
       "      <td>2728</td>\n",
       "      <td>154</td>\n",
       "      <td>2882</td>\n",
       "    </tr>\n",
       "  </tbody>\n",
       "</table>\n",
       "</div>"
      ],
      "text/plain": [
       "Predicted   0.0  1.0   All\n",
       "Actual                    \n",
       "0.0        2703    3  2706\n",
       "1.0          25  151   176\n",
       "All        2728  154  2882"
      ]
     },
     "metadata": {},
     "output_type": "display_data"
    },
    {
     "data": {
      "application/vnd.plotly.v1+json": {
       "config": {
        "linkText": "Export to plot.ly",
        "plotlyServerURL": "https://plot.ly",
        "showLink": true
       },
       "data": [
        {
         "line": {
          "color": "rgba(85, 67, 242, 1.0)",
          "dash": "solid",
          "shape": "linear",
          "width": 1.3
         },
         "mode": "lines",
         "name": "tpr",
         "text": "",
         "type": "scatter",
         "x": [
          0,
          0,
          0,
          0.0003695491500369549,
          0.0003695491500369549,
          0.0007390983000739098,
          0.0007390983000739098,
          0.0011086474501108647,
          0.0011086474501108647,
          0.0018477457501847746,
          0.0018477457501847746,
          0.0025868440502586844,
          0.0025868440502586844,
          0.0029563932002956393,
          0.0029563932002956393,
          0.0033259423503325942,
          0.0033259423503325942,
          0.005173688100517369,
          0.005173688100517369,
          0.007021433850702144,
          0.007021433850702144,
          0.007760532150776054,
          0.007760532150776054,
          0.010347376201034738,
          0.010347376201034738,
          0.010716925351071693,
          0.010716925351071693,
          0.015151515151515152,
          0.015151515151515152,
          0.018477457501847747,
          0.018477457501847747,
          0.025129342202512936,
          0.025129342202512936,
          0.11271249076127125,
          0.11271249076127125,
          0.20140428677014044,
          0.20140428677014044,
          0.27161862527716185,
          0.27161862527716185,
          0.7804878048780488,
          0.7812269031781227,
          1
         ],
         "y": [
          0,
          0.005681818181818182,
          0.8295454545454546,
          0.8295454545454546,
          0.8465909090909091,
          0.8465909090909091,
          0.8522727272727273,
          0.8522727272727273,
          0.8636363636363636,
          0.8636363636363636,
          0.875,
          0.875,
          0.8977272727272727,
          0.8977272727272727,
          0.9034090909090909,
          0.9034090909090909,
          0.9090909090909091,
          0.9090909090909091,
          0.9375,
          0.9375,
          0.9431818181818182,
          0.9431818181818182,
          0.9488636363636364,
          0.9488636363636364,
          0.9545454545454546,
          0.9545454545454546,
          0.9659090909090909,
          0.9659090909090909,
          0.9715909090909091,
          0.9715909090909091,
          0.9772727272727273,
          0.9772727272727273,
          0.9829545454545454,
          0.9829545454545454,
          0.9886363636363636,
          0.9886363636363636,
          0.9943181818181818,
          0.9943181818181818,
          1,
          1,
          1,
          1
         ]
        }
       ],
       "layout": {
        "height": 800,
        "legend": {
         "bgcolor": "#F5F6F9",
         "font": {
          "color": "#4D5663"
         }
        },
        "margin": {
         "b": 70,
         "l": 70,
         "r": 70,
         "t": 70
        },
        "paper_bgcolor": "#F5F6F9",
        "plot_bgcolor": "#F5F6F9",
        "shapes": [
         {
          "line": {
           "color": "#000000",
           "dash": "solid",
           "width": 1
          },
          "type": "line",
          "x0": 0,
          "x1": 1,
          "xref": "x",
          "y0": 0,
          "y1": 1,
          "yref": "y"
         }
        ],
        "title": "ROC Curve",
        "titlefont": {
         "color": "#4D5663"
        },
        "width": 800,
        "xaxis": {
         "gridcolor": "#E1E5ED",
         "showgrid": true,
         "tickfont": {
          "color": "#4D5663"
         },
         "title": "False Positive Rate",
         "titlefont": {
          "color": "#4D5663"
         },
         "zerolinecolor": "#E1E5ED"
        },
        "yaxis": {
         "gridcolor": "#E1E5ED",
         "showgrid": true,
         "tickfont": {
          "color": "#4D5663"
         },
         "title": "True Positive Rate",
         "titlefont": {
          "color": "#4D5663"
         },
         "zerolinecolor": "#E1E5ED"
        }
       }
      },
      "text/html": [
       "<div>                            <div id=\"c260a3db-3013-4424-80fb-0b63b0beb885\" class=\"plotly-graph-div\" style=\"height:800px; width:800px;\"></div>            <script type=\"text/javascript\">                require([\"plotly\"], function(Plotly) {                    window.PLOTLYENV=window.PLOTLYENV || {};\n",
       "                    window.PLOTLYENV.BASE_URL='https://plot.ly';                                    if (document.getElementById(\"c260a3db-3013-4424-80fb-0b63b0beb885\")) {                    Plotly.newPlot(                        \"c260a3db-3013-4424-80fb-0b63b0beb885\",                        [{\"line\":{\"color\":\"rgba(85, 67, 242, 1.0)\",\"dash\":\"solid\",\"shape\":\"linear\",\"width\":1.3},\"mode\":\"lines\",\"name\":\"tpr\",\"text\":\"\",\"x\":[0.0,0.0,0.0,0.0003695491500369549,0.0003695491500369549,0.0007390983000739098,0.0007390983000739098,0.0011086474501108647,0.0011086474501108647,0.0018477457501847746,0.0018477457501847746,0.0025868440502586844,0.0025868440502586844,0.0029563932002956393,0.0029563932002956393,0.0033259423503325942,0.0033259423503325942,0.005173688100517369,0.005173688100517369,0.007021433850702144,0.007021433850702144,0.007760532150776054,0.007760532150776054,0.010347376201034738,0.010347376201034738,0.010716925351071693,0.010716925351071693,0.015151515151515152,0.015151515151515152,0.018477457501847747,0.018477457501847747,0.025129342202512936,0.025129342202512936,0.11271249076127125,0.11271249076127125,0.20140428677014044,0.20140428677014044,0.27161862527716185,0.27161862527716185,0.7804878048780488,0.7812269031781227,1.0],\"y\":[0.0,0.005681818181818182,0.8295454545454546,0.8295454545454546,0.8465909090909091,0.8465909090909091,0.8522727272727273,0.8522727272727273,0.8636363636363636,0.8636363636363636,0.875,0.875,0.8977272727272727,0.8977272727272727,0.9034090909090909,0.9034090909090909,0.9090909090909091,0.9090909090909091,0.9375,0.9375,0.9431818181818182,0.9431818181818182,0.9488636363636364,0.9488636363636364,0.9545454545454546,0.9545454545454546,0.9659090909090909,0.9659090909090909,0.9715909090909091,0.9715909090909091,0.9772727272727273,0.9772727272727273,0.9829545454545454,0.9829545454545454,0.9886363636363636,0.9886363636363636,0.9943181818181818,0.9943181818181818,1.0,1.0,1.0,1.0],\"type\":\"scatter\"}],                        {\"legend\":{\"bgcolor\":\"#F5F6F9\",\"font\":{\"color\":\"#4D5663\"}},\"paper_bgcolor\":\"#F5F6F9\",\"plot_bgcolor\":\"#F5F6F9\",\"yaxis\":{\"tickfont\":{\"color\":\"#4D5663\"},\"gridcolor\":\"#E1E5ED\",\"titlefont\":{\"color\":\"#4D5663\"},\"zerolinecolor\":\"#E1E5ED\",\"showgrid\":true,\"title\":\"True Positive Rate\"},\"xaxis\":{\"tickfont\":{\"color\":\"#4D5663\"},\"gridcolor\":\"#E1E5ED\",\"titlefont\":{\"color\":\"#4D5663\"},\"zerolinecolor\":\"#E1E5ED\",\"showgrid\":true,\"title\":\"False Positive Rate\"},\"titlefont\":{\"color\":\"#4D5663\"},\"title\":\"ROC Curve\",\"margin\":{\"l\":70,\"r\":70,\"b\":70,\"t\":70},\"width\":800,\"height\":800,\"shapes\":[{\"x0\":0,\"y0\":0,\"x1\":1,\"y1\":1,\"line\":{\"color\":\"#000000\",\"width\":1,\"dash\":\"solid\"},\"xref\":\"x\",\"yref\":\"y\",\"type\":\"line\"}]},                        {\"showLink\": true, \"linkText\": \"Export to plot.ly\", \"plotlyServerURL\": \"https://plot.ly\", \"responsive\": true}                    ).then(function(){\n",
       "                            \n",
       "var gd = document.getElementById('c260a3db-3013-4424-80fb-0b63b0beb885');\n",
       "var x = new MutationObserver(function (mutations, observer) {{\n",
       "        var display = window.getComputedStyle(gd).display;\n",
       "        if (!display || display === 'none') {{\n",
       "            console.log([gd, 'removed!']);\n",
       "            Plotly.purge(gd);\n",
       "            observer.disconnect();\n",
       "        }}\n",
       "}});\n",
       "\n",
       "// Listen for the removal of the full notebook cells\n",
       "var notebookContainer = gd.closest('#notebook-container');\n",
       "if (notebookContainer) {{\n",
       "    x.observe(notebookContainer, {childList: true});\n",
       "}}\n",
       "\n",
       "// Listen for the clearing of the current output cell\n",
       "var outputEl = gd.closest('.output');\n",
       "if (outputEl) {{\n",
       "    x.observe(outputEl, {childList: true});\n",
       "}}\n",
       "\n",
       "                        })                };                });            </script>        </div>"
      ]
     },
     "metadata": {},
     "output_type": "display_data"
    }
   ],
   "source": [
    "# make predictions on validation set\n",
    "X_train = X_train.values[:, :]\n",
    "Y_train = df_train.values[:, 0]\n",
    "\n",
    "train_predictions = model.predict(X_train)\n",
    "train_probs_1 = []\n",
    "for i in range(len(train_probs)):\n",
    "    train_probs_1.append(train_probs[i][1])\n",
    "\n",
    "print('Accuracy = ' + str(accuracy_score(Y_train, train_predictions)))\n",
    "print('Log Loss = ' + str(log_loss(Y_train, train_probs)))\n",
    "print('ROC-AUC = ' + str(roc_auc_score(Y_train, train_probs_1)))\n",
    "print('Gini = ' + str(2 * roc_auc_score(Y_train, train_probs_1) - 1))\n",
    "print(classification_report(Y_train, train_predictions))\n",
    "display(pd.crosstab(Y_train, train_predictions, rownames = ['Actual'], colnames = ['Predicted'], margins = True))\n",
    "\n",
    "fpr, tpr, thresholds = roc_curve(Y_train, train_probs_1)\n",
    "roc_auc = auc(fpr, tpr)\n",
    "\n",
    "df = pd.DataFrame(dict(fpr = fpr, tpr = tpr))\n",
    "cf.set_config_file(dimensions = (800, 800), margin = (70, 70, 70, 70))\n",
    "CI = [{'x0' : 0, 'y0' : 0, 'x1' : 1, 'y1' : 1, 'color' : 'black'}]\n",
    "df.iplot(x = 'fpr', y = 'tpr', vline = CI, title = 'ROC Curve',\n",
    "         xTitle = 'False Positive Rate', yTitle = 'True Positive Rate',\n",
    "         colors = rgb_palette[0])"
   ]
  },
  {
   "cell_type": "markdown",
   "id": "bc5d5699",
   "metadata": {},
   "source": [
    "#### 3b) Test set\n",
    "Clearly our Model has overfitted as our test results aren't as good as our train results"
   ]
  },
  {
   "cell_type": "code",
   "execution_count": 7,
   "id": "adddf297",
   "metadata": {},
   "outputs": [],
   "source": [
    "# drop excess columns\n",
    "X_test = df_test.drop(['Label', 'Title id'], axis = 1)\n",
    "df_test.reset_index(drop = True, inplace = True)\n",
    "\n",
    "# get Model predictions\n",
    "test_probs = model.predict_proba(X_test)\n",
    "\n",
    "# join probs onto df_train\n",
    "df_test_preds = pd.DataFrame({'label_0_prob' : test_probs[:, 0], 'label_1_prob' : test_probs[:, 1]})\n",
    "df_test_preds = df_test[['Title id', 'Label']].merge(df_test_preds, left_index = True, right_index = True)"
   ]
  },
  {
   "cell_type": "code",
   "execution_count": 8,
   "id": "ec8120b2",
   "metadata": {},
   "outputs": [
    {
     "name": "stdout",
     "output_type": "stream",
     "text": [
      "Accuracy = 0.9348127600554785\n",
      "Log Loss = 0.24777280062946738\n",
      "ROC-AUC = 0.7625218208674633\n",
      "Gini = 0.5250436417349267\n",
      "              precision    recall  f1-score   support\n",
      "\n",
      "         0.0       0.94      0.99      0.97       677\n",
      "         1.0       0.36      0.09      0.15        44\n",
      "\n",
      "    accuracy                           0.93       721\n",
      "   macro avg       0.65      0.54      0.56       721\n",
      "weighted avg       0.91      0.93      0.92       721\n",
      "\n"
     ]
    },
    {
     "data": {
      "text/html": [
       "<div>\n",
       "<style scoped>\n",
       "    .dataframe tbody tr th:only-of-type {\n",
       "        vertical-align: middle;\n",
       "    }\n",
       "\n",
       "    .dataframe tbody tr th {\n",
       "        vertical-align: top;\n",
       "    }\n",
       "\n",
       "    .dataframe thead th {\n",
       "        text-align: right;\n",
       "    }\n",
       "</style>\n",
       "<table border=\"1\" class=\"dataframe\">\n",
       "  <thead>\n",
       "    <tr style=\"text-align: right;\">\n",
       "      <th>Predicted</th>\n",
       "      <th>0.0</th>\n",
       "      <th>1.0</th>\n",
       "      <th>All</th>\n",
       "    </tr>\n",
       "    <tr>\n",
       "      <th>Actual</th>\n",
       "      <th></th>\n",
       "      <th></th>\n",
       "      <th></th>\n",
       "    </tr>\n",
       "  </thead>\n",
       "  <tbody>\n",
       "    <tr>\n",
       "      <th>0.0</th>\n",
       "      <td>670</td>\n",
       "      <td>7</td>\n",
       "      <td>677</td>\n",
       "    </tr>\n",
       "    <tr>\n",
       "      <th>1.0</th>\n",
       "      <td>40</td>\n",
       "      <td>4</td>\n",
       "      <td>44</td>\n",
       "    </tr>\n",
       "    <tr>\n",
       "      <th>All</th>\n",
       "      <td>710</td>\n",
       "      <td>11</td>\n",
       "      <td>721</td>\n",
       "    </tr>\n",
       "  </tbody>\n",
       "</table>\n",
       "</div>"
      ],
      "text/plain": [
       "Predicted  0.0  1.0  All\n",
       "Actual                  \n",
       "0.0        670    7  677\n",
       "1.0         40    4   44\n",
       "All        710   11  721"
      ]
     },
     "metadata": {},
     "output_type": "display_data"
    },
    {
     "data": {
      "application/vnd.plotly.v1+json": {
       "config": {
        "linkText": "Export to plot.ly",
        "plotlyServerURL": "https://plot.ly",
        "showLink": true
       },
       "data": [
        {
         "line": {
          "color": "rgba(85, 67, 242, 1.0)",
          "dash": "solid",
          "shape": "linear",
          "width": 1.3
         },
         "mode": "lines",
         "name": "tpr",
         "text": "",
         "type": "scatter",
         "x": [
          0,
          0,
          0.0014771048744460858,
          0.0014771048744460858,
          0.004431314623338257,
          0.004431314623338257,
          0.005908419497784343,
          0.005908419497784343,
          0.01624815361890694,
          0.01624815361890694,
          0.01772525849335303,
          0.01772525849335303,
          0.019202363367799114,
          0.019202363367799114,
          0.022156573116691284,
          0.022156573116691284,
          0.026587887740029542,
          0.026587887740029542,
          0.03249630723781388,
          0.03249630723781388,
          0.04283604135893648,
          0.04283604135893648,
          0.056129985228951254,
          0.056129985228951254,
          0.060561299852289516,
          0.060561299852289516,
          0.06794682422451995,
          0.06794682422451995,
          0.07976366322008863,
          0.07976366322008863,
          0.08714918759231906,
          0.08714918759231906,
          0.08862629246676514,
          0.08862629246676514,
          0.09010339734121123,
          0.09010339734121123,
          0.11225997045790251,
          0.11225997045790251,
          0.14771048744460857,
          0.14771048744460857,
          0.155096011816839,
          0.155096011816839,
          0.1935007385524372,
          0.1935007385524372,
          0.19940915805022155,
          0.19940915805022155,
          0.22156573116691286,
          0.22156573116691286,
          0.2259970457902511,
          0.2259970457902511,
          0.2511078286558346,
          0.2511078286558346,
          0.29098966026587886,
          0.29098966026587886,
          0.29246676514032494,
          0.29246676514032494,
          0.34416543574593794,
          0.34416543574593794,
          0.3825701624815362,
          0.3825701624815362,
          0.40620384047267355,
          0.40620384047267355,
          0.41802067946824223,
          0.41802067946824223,
          0.43722304283604135,
          0.43722304283604135,
          0.5155096011816839,
          0.5155096011816839,
          0.5273264401772526,
          0.5273264401772526,
          0.552437223042836,
          0.552437223042836,
          0.7045790251107829,
          0.7045790251107829,
          0.7592319054652881,
          0.7592319054652881,
          0.7799113737075333,
          0.7799113737075333,
          0.8020679468242246,
          0.8020679468242246,
          0.8670605612998523,
          0.8670605612998523,
          1
         ],
         "y": [
          0,
          0.022727272727272728,
          0.022727272727272728,
          0.045454545454545456,
          0.045454545454545456,
          0.06818181818181818,
          0.06818181818181818,
          0.09090909090909091,
          0.09090909090909091,
          0.11363636363636363,
          0.11363636363636363,
          0.13636363636363635,
          0.13636363636363635,
          0.1590909090909091,
          0.1590909090909091,
          0.18181818181818182,
          0.18181818181818182,
          0.25,
          0.25,
          0.2727272727272727,
          0.2727272727272727,
          0.29545454545454547,
          0.29545454545454547,
          0.3181818181818182,
          0.3181818181818182,
          0.3409090909090909,
          0.3409090909090909,
          0.36363636363636365,
          0.36363636363636365,
          0.38636363636363635,
          0.38636363636363635,
          0.4090909090909091,
          0.4090909090909091,
          0.4318181818181818,
          0.4318181818181818,
          0.4772727272727273,
          0.4772727272727273,
          0.5,
          0.5,
          0.5227272727272727,
          0.5227272727272727,
          0.5454545454545454,
          0.5454545454545454,
          0.5681818181818182,
          0.5681818181818182,
          0.5909090909090909,
          0.5909090909090909,
          0.6136363636363636,
          0.6136363636363636,
          0.6363636363636364,
          0.6363636363636364,
          0.6590909090909091,
          0.6590909090909091,
          0.6818181818181818,
          0.6818181818181818,
          0.7045454545454546,
          0.7045454545454546,
          0.7272727272727273,
          0.7272727272727273,
          0.75,
          0.75,
          0.7727272727272727,
          0.7727272727272727,
          0.7954545454545454,
          0.7954545454545454,
          0.8181818181818182,
          0.8181818181818182,
          0.8409090909090909,
          0.8409090909090909,
          0.8636363636363636,
          0.8636363636363636,
          0.8863636363636364,
          0.8863636363636364,
          0.9090909090909091,
          0.9090909090909091,
          0.9318181818181818,
          0.9318181818181818,
          0.9545454545454546,
          0.9545454545454546,
          0.9772727272727273,
          0.9772727272727273,
          1,
          1
         ]
        }
       ],
       "layout": {
        "height": 800,
        "legend": {
         "bgcolor": "#F5F6F9",
         "font": {
          "color": "#4D5663"
         }
        },
        "margin": {
         "b": 70,
         "l": 70,
         "r": 70,
         "t": 70
        },
        "paper_bgcolor": "#F5F6F9",
        "plot_bgcolor": "#F5F6F9",
        "shapes": [
         {
          "line": {
           "color": "#000000",
           "dash": "solid",
           "width": 1
          },
          "type": "line",
          "x0": 0,
          "x1": 1,
          "xref": "x",
          "y0": 0,
          "y1": 1,
          "yref": "y"
         }
        ],
        "title": "ROC Curve",
        "titlefont": {
         "color": "#4D5663"
        },
        "width": 800,
        "xaxis": {
         "gridcolor": "#E1E5ED",
         "showgrid": true,
         "tickfont": {
          "color": "#4D5663"
         },
         "title": "False Positive Rate",
         "titlefont": {
          "color": "#4D5663"
         },
         "zerolinecolor": "#E1E5ED"
        },
        "yaxis": {
         "gridcolor": "#E1E5ED",
         "showgrid": true,
         "tickfont": {
          "color": "#4D5663"
         },
         "title": "True Positive Rate",
         "titlefont": {
          "color": "#4D5663"
         },
         "zerolinecolor": "#E1E5ED"
        }
       }
      },
      "text/html": [
       "<div>                            <div id=\"1b8cef6b-ba66-4110-b98c-7c7449d54553\" class=\"plotly-graph-div\" style=\"height:800px; width:800px;\"></div>            <script type=\"text/javascript\">                require([\"plotly\"], function(Plotly) {                    window.PLOTLYENV=window.PLOTLYENV || {};\n",
       "                    window.PLOTLYENV.BASE_URL='https://plot.ly';                                    if (document.getElementById(\"1b8cef6b-ba66-4110-b98c-7c7449d54553\")) {                    Plotly.newPlot(                        \"1b8cef6b-ba66-4110-b98c-7c7449d54553\",                        [{\"line\":{\"color\":\"rgba(85, 67, 242, 1.0)\",\"dash\":\"solid\",\"shape\":\"linear\",\"width\":1.3},\"mode\":\"lines\",\"name\":\"tpr\",\"text\":\"\",\"x\":[0.0,0.0,0.0014771048744460858,0.0014771048744460858,0.004431314623338257,0.004431314623338257,0.005908419497784343,0.005908419497784343,0.01624815361890694,0.01624815361890694,0.01772525849335303,0.01772525849335303,0.019202363367799114,0.019202363367799114,0.022156573116691284,0.022156573116691284,0.026587887740029542,0.026587887740029542,0.03249630723781388,0.03249630723781388,0.04283604135893648,0.04283604135893648,0.056129985228951254,0.056129985228951254,0.060561299852289516,0.060561299852289516,0.06794682422451995,0.06794682422451995,0.07976366322008863,0.07976366322008863,0.08714918759231906,0.08714918759231906,0.08862629246676514,0.08862629246676514,0.09010339734121123,0.09010339734121123,0.11225997045790251,0.11225997045790251,0.14771048744460857,0.14771048744460857,0.155096011816839,0.155096011816839,0.1935007385524372,0.1935007385524372,0.19940915805022155,0.19940915805022155,0.22156573116691286,0.22156573116691286,0.2259970457902511,0.2259970457902511,0.2511078286558346,0.2511078286558346,0.29098966026587886,0.29098966026587886,0.29246676514032494,0.29246676514032494,0.34416543574593794,0.34416543574593794,0.3825701624815362,0.3825701624815362,0.40620384047267355,0.40620384047267355,0.41802067946824223,0.41802067946824223,0.43722304283604135,0.43722304283604135,0.5155096011816839,0.5155096011816839,0.5273264401772526,0.5273264401772526,0.552437223042836,0.552437223042836,0.7045790251107829,0.7045790251107829,0.7592319054652881,0.7592319054652881,0.7799113737075333,0.7799113737075333,0.8020679468242246,0.8020679468242246,0.8670605612998523,0.8670605612998523,1.0],\"y\":[0.0,0.022727272727272728,0.022727272727272728,0.045454545454545456,0.045454545454545456,0.06818181818181818,0.06818181818181818,0.09090909090909091,0.09090909090909091,0.11363636363636363,0.11363636363636363,0.13636363636363635,0.13636363636363635,0.1590909090909091,0.1590909090909091,0.18181818181818182,0.18181818181818182,0.25,0.25,0.2727272727272727,0.2727272727272727,0.29545454545454547,0.29545454545454547,0.3181818181818182,0.3181818181818182,0.3409090909090909,0.3409090909090909,0.36363636363636365,0.36363636363636365,0.38636363636363635,0.38636363636363635,0.4090909090909091,0.4090909090909091,0.4318181818181818,0.4318181818181818,0.4772727272727273,0.4772727272727273,0.5,0.5,0.5227272727272727,0.5227272727272727,0.5454545454545454,0.5454545454545454,0.5681818181818182,0.5681818181818182,0.5909090909090909,0.5909090909090909,0.6136363636363636,0.6136363636363636,0.6363636363636364,0.6363636363636364,0.6590909090909091,0.6590909090909091,0.6818181818181818,0.6818181818181818,0.7045454545454546,0.7045454545454546,0.7272727272727273,0.7272727272727273,0.75,0.75,0.7727272727272727,0.7727272727272727,0.7954545454545454,0.7954545454545454,0.8181818181818182,0.8181818181818182,0.8409090909090909,0.8409090909090909,0.8636363636363636,0.8636363636363636,0.8863636363636364,0.8863636363636364,0.9090909090909091,0.9090909090909091,0.9318181818181818,0.9318181818181818,0.9545454545454546,0.9545454545454546,0.9772727272727273,0.9772727272727273,1.0,1.0],\"type\":\"scatter\"}],                        {\"legend\":{\"bgcolor\":\"#F5F6F9\",\"font\":{\"color\":\"#4D5663\"}},\"paper_bgcolor\":\"#F5F6F9\",\"plot_bgcolor\":\"#F5F6F9\",\"yaxis\":{\"tickfont\":{\"color\":\"#4D5663\"},\"gridcolor\":\"#E1E5ED\",\"titlefont\":{\"color\":\"#4D5663\"},\"zerolinecolor\":\"#E1E5ED\",\"showgrid\":true,\"title\":\"True Positive Rate\"},\"xaxis\":{\"tickfont\":{\"color\":\"#4D5663\"},\"gridcolor\":\"#E1E5ED\",\"titlefont\":{\"color\":\"#4D5663\"},\"zerolinecolor\":\"#E1E5ED\",\"showgrid\":true,\"title\":\"False Positive Rate\"},\"titlefont\":{\"color\":\"#4D5663\"},\"title\":\"ROC Curve\",\"margin\":{\"l\":70,\"r\":70,\"b\":70,\"t\":70},\"width\":800,\"height\":800,\"shapes\":[{\"x0\":0,\"y0\":0,\"x1\":1,\"y1\":1,\"line\":{\"color\":\"#000000\",\"width\":1,\"dash\":\"solid\"},\"xref\":\"x\",\"yref\":\"y\",\"type\":\"line\"}]},                        {\"showLink\": true, \"linkText\": \"Export to plot.ly\", \"plotlyServerURL\": \"https://plot.ly\", \"responsive\": true}                    ).then(function(){\n",
       "                            \n",
       "var gd = document.getElementById('1b8cef6b-ba66-4110-b98c-7c7449d54553');\n",
       "var x = new MutationObserver(function (mutations, observer) {{\n",
       "        var display = window.getComputedStyle(gd).display;\n",
       "        if (!display || display === 'none') {{\n",
       "            console.log([gd, 'removed!']);\n",
       "            Plotly.purge(gd);\n",
       "            observer.disconnect();\n",
       "        }}\n",
       "}});\n",
       "\n",
       "// Listen for the removal of the full notebook cells\n",
       "var notebookContainer = gd.closest('#notebook-container');\n",
       "if (notebookContainer) {{\n",
       "    x.observe(notebookContainer, {childList: true});\n",
       "}}\n",
       "\n",
       "// Listen for the clearing of the current output cell\n",
       "var outputEl = gd.closest('.output');\n",
       "if (outputEl) {{\n",
       "    x.observe(outputEl, {childList: true});\n",
       "}}\n",
       "\n",
       "                        })                };                });            </script>        </div>"
      ]
     },
     "metadata": {},
     "output_type": "display_data"
    }
   ],
   "source": [
    "# make predictions on validation set\n",
    "X_test = X_test.values[:, :]\n",
    "Y_test = df_test.values[:, 0]\n",
    "\n",
    "test_predictions = model.predict(X_test)\n",
    "test_probs_1 = []\n",
    "for i in range(len(test_probs)):\n",
    "    test_probs_1.append(test_probs[i][1])\n",
    "\n",
    "print('Accuracy = ' + str(accuracy_score(Y_test, test_predictions)))\n",
    "print('Log Loss = ' + str(log_loss(Y_test, test_probs)))\n",
    "print('ROC-AUC = ' + str(roc_auc_score(Y_test, test_probs_1)))\n",
    "print('Gini = ' + str(2 * roc_auc_score(Y_test, test_probs_1) - 1))\n",
    "print(classification_report(Y_test, test_predictions))\n",
    "display(pd.crosstab(Y_test, test_predictions, rownames = ['Actual'], colnames = ['Predicted'], margins = True))\n",
    "\n",
    "fpr, tpr, thresholds = roc_curve(Y_test, test_probs_1)\n",
    "roc_auc = auc(fpr, tpr)\n",
    "\n",
    "df = pd.DataFrame(dict(fpr = fpr, tpr = tpr))\n",
    "cf.set_config_file(dimensions = (800, 800), margin = (70, 70, 70, 70))\n",
    "CI = [{'x0' : 0, 'y0' : 0, 'x1' : 1, 'y1' : 1, 'color' : 'black'}]\n",
    "df.iplot(x = 'fpr', y = 'tpr', vline = CI, title = 'ROC Curve',\n",
    "         xTitle = 'False Positive Rate', yTitle = 'True Positive Rate',\n",
    "         colors = rgb_palette[0])"
   ]
  },
  {
   "cell_type": "markdown",
   "id": "d8fa9c07",
   "metadata": {},
   "source": [
    "<a id=\"id_4\"></a>\n",
    "## 4. Analyse Decile Distribution\n",
    "#### 4a) Training set"
   ]
  },
  {
   "cell_type": "code",
   "execution_count": 9,
   "id": "7ed6bae6",
   "metadata": {},
   "outputs": [
    {
     "data": {
      "text/plain": [
       "count   2882.000000\n",
       "mean       5.501388\n",
       "std        2.873021\n",
       "min        1.000000\n",
       "25%        3.000000\n",
       "50%        5.500000\n",
       "75%        8.000000\n",
       "max       10.000000\n",
       "Name: decile, dtype: float64"
      ]
     },
     "execution_count": 9,
     "metadata": {},
     "output_type": "execute_result"
    }
   ],
   "source": [
    "df_train_preds = deciles(df_train_preds)\n",
    "df_train_preds['decile'].describe()"
   ]
  },
  {
   "cell_type": "code",
   "execution_count": 10,
   "id": "05f9f74a",
   "metadata": {},
   "outputs": [
    {
     "name": "stdout",
     "output_type": "stream",
     "text": [
      "176(6.11%) entries are labelled 1\n",
      "2706(93.89%) entries are labelled 0\n",
      "There are 2882 entries in total\n",
      "98.3% of outcomes in top 1 deciles\n",
      "\n",
      "Score Delta = 0.97\n"
     ]
    },
    {
     "data": {
      "text/html": [
       "<div>\n",
       "<style scoped>\n",
       "    .dataframe tbody tr th:only-of-type {\n",
       "        vertical-align: middle;\n",
       "    }\n",
       "\n",
       "    .dataframe tbody tr th {\n",
       "        vertical-align: top;\n",
       "    }\n",
       "\n",
       "    .dataframe thead th {\n",
       "        text-align: right;\n",
       "    }\n",
       "</style>\n",
       "<table border=\"1\" class=\"dataframe\">\n",
       "  <thead>\n",
       "    <tr style=\"text-align: right;\">\n",
       "      <th></th>\n",
       "      <th>decile</th>\n",
       "      <th>min_score</th>\n",
       "      <th>max_score</th>\n",
       "      <th>avg_score</th>\n",
       "      <th>volume</th>\n",
       "      <th>outcome_volume</th>\n",
       "      <th>outcome_rate</th>\n",
       "      <th>actual_log_odds</th>\n",
       "      <th>predicted_log_odds</th>\n",
       "      <th>score_delta</th>\n",
       "    </tr>\n",
       "  </thead>\n",
       "  <tbody>\n",
       "    <tr>\n",
       "      <th>0</th>\n",
       "      <td>1.000000</td>\n",
       "      <td>0.023551</td>\n",
       "      <td>0.992978</td>\n",
       "      <td>0.540025</td>\n",
       "      <td>288</td>\n",
       "      <td>173.000000</td>\n",
       "      <td>0.600694</td>\n",
       "      <td>0.408359</td>\n",
       "      <td>0.160444</td>\n",
       "      <td>0.247916</td>\n",
       "    </tr>\n",
       "    <tr>\n",
       "      <th>1</th>\n",
       "      <td>2.000000</td>\n",
       "      <td>0.009562</td>\n",
       "      <td>0.023493</td>\n",
       "      <td>0.014711</td>\n",
       "      <td>288</td>\n",
       "      <td>1.000000</td>\n",
       "      <td>0.003472</td>\n",
       "      <td>-5.659482</td>\n",
       "      <td>-4.204362</td>\n",
       "      <td>1.455120</td>\n",
       "    </tr>\n",
       "    <tr>\n",
       "      <th>2</th>\n",
       "      <td>3.000000</td>\n",
       "      <td>0.005671</td>\n",
       "      <td>0.009540</td>\n",
       "      <td>0.007248</td>\n",
       "      <td>288</td>\n",
       "      <td>1.000000</td>\n",
       "      <td>0.003472</td>\n",
       "      <td>-5.659482</td>\n",
       "      <td>-4.919775</td>\n",
       "      <td>0.739707</td>\n",
       "    </tr>\n",
       "    <tr>\n",
       "      <th>3</th>\n",
       "      <td>4.000000</td>\n",
       "      <td>0.003541</td>\n",
       "      <td>0.005664</td>\n",
       "      <td>0.004487</td>\n",
       "      <td>288</td>\n",
       "      <td>1.000000</td>\n",
       "      <td>0.003472</td>\n",
       "      <td>-5.659482</td>\n",
       "      <td>-5.401970</td>\n",
       "      <td>0.257512</td>\n",
       "    </tr>\n",
       "    <tr>\n",
       "      <th>4</th>\n",
       "      <td>5.000000</td>\n",
       "      <td>0.002158</td>\n",
       "      <td>0.003538</td>\n",
       "      <td>0.002793</td>\n",
       "      <td>289</td>\n",
       "      <td>0.000000</td>\n",
       "      <td>0.000000</td>\n",
       "      <td>-inf</td>\n",
       "      <td>-5.877887</td>\n",
       "      <td>inf</td>\n",
       "    </tr>\n",
       "    <tr>\n",
       "      <th>5</th>\n",
       "      <td>6.000000</td>\n",
       "      <td>0.001454</td>\n",
       "      <td>0.002145</td>\n",
       "      <td>0.001782</td>\n",
       "      <td>288</td>\n",
       "      <td>0.000000</td>\n",
       "      <td>0.000000</td>\n",
       "      <td>-inf</td>\n",
       "      <td>-6.328310</td>\n",
       "      <td>inf</td>\n",
       "    </tr>\n",
       "    <tr>\n",
       "      <th>6</th>\n",
       "      <td>7.000000</td>\n",
       "      <td>0.000934</td>\n",
       "      <td>0.001448</td>\n",
       "      <td>0.001195</td>\n",
       "      <td>288</td>\n",
       "      <td>0.000000</td>\n",
       "      <td>0.000000</td>\n",
       "      <td>-inf</td>\n",
       "      <td>-6.728444</td>\n",
       "      <td>inf</td>\n",
       "    </tr>\n",
       "    <tr>\n",
       "      <th>7</th>\n",
       "      <td>8.000000</td>\n",
       "      <td>0.000543</td>\n",
       "      <td>0.000933</td>\n",
       "      <td>0.000724</td>\n",
       "      <td>288</td>\n",
       "      <td>0.000000</td>\n",
       "      <td>0.000000</td>\n",
       "      <td>-inf</td>\n",
       "      <td>-7.230151</td>\n",
       "      <td>inf</td>\n",
       "    </tr>\n",
       "    <tr>\n",
       "      <th>8</th>\n",
       "      <td>9.000000</td>\n",
       "      <td>0.000288</td>\n",
       "      <td>0.000543</td>\n",
       "      <td>0.000415</td>\n",
       "      <td>288</td>\n",
       "      <td>0.000000</td>\n",
       "      <td>0.000000</td>\n",
       "      <td>-inf</td>\n",
       "      <td>-7.785991</td>\n",
       "      <td>inf</td>\n",
       "    </tr>\n",
       "    <tr>\n",
       "      <th>9</th>\n",
       "      <td>10.000000</td>\n",
       "      <td>0.000019</td>\n",
       "      <td>0.000288</td>\n",
       "      <td>0.000167</td>\n",
       "      <td>289</td>\n",
       "      <td>0.000000</td>\n",
       "      <td>0.000000</td>\n",
       "      <td>-inf</td>\n",
       "      <td>-8.694826</td>\n",
       "      <td>inf</td>\n",
       "    </tr>\n",
       "  </tbody>\n",
       "</table>\n",
       "</div>"
      ],
      "text/plain": [
       "     decile  min_score  max_score  avg_score  volume  outcome_volume  \\\n",
       "0  1.000000   0.023551   0.992978   0.540025     288      173.000000   \n",
       "1  2.000000   0.009562   0.023493   0.014711     288        1.000000   \n",
       "2  3.000000   0.005671   0.009540   0.007248     288        1.000000   \n",
       "3  4.000000   0.003541   0.005664   0.004487     288        1.000000   \n",
       "4  5.000000   0.002158   0.003538   0.002793     289        0.000000   \n",
       "5  6.000000   0.001454   0.002145   0.001782     288        0.000000   \n",
       "6  7.000000   0.000934   0.001448   0.001195     288        0.000000   \n",
       "7  8.000000   0.000543   0.000933   0.000724     288        0.000000   \n",
       "8  9.000000   0.000288   0.000543   0.000415     288        0.000000   \n",
       "9 10.000000   0.000019   0.000288   0.000167     289        0.000000   \n",
       "\n",
       "   outcome_rate  actual_log_odds  predicted_log_odds  score_delta  \n",
       "0      0.600694         0.408359            0.160444     0.247916  \n",
       "1      0.003472        -5.659482           -4.204362     1.455120  \n",
       "2      0.003472        -5.659482           -4.919775     0.739707  \n",
       "3      0.003472        -5.659482           -5.401970     0.257512  \n",
       "4      0.000000             -inf           -5.877887          inf  \n",
       "5      0.000000             -inf           -6.328310          inf  \n",
       "6      0.000000             -inf           -6.728444          inf  \n",
       "7      0.000000             -inf           -7.230151          inf  \n",
       "8      0.000000             -inf           -7.785991          inf  \n",
       "9      0.000000             -inf           -8.694826          inf  "
      ]
     },
     "metadata": {},
     "output_type": "display_data"
    }
   ],
   "source": [
    "db_train = decile_stats(df_train_preds)\n",
    "display(db_train)"
   ]
  },
  {
   "cell_type": "code",
   "execution_count": 11,
   "id": "06e4e180",
   "metadata": {},
   "outputs": [
    {
     "data": {
      "text/plain": [
       "<module 'matplotlib.pyplot' from 'C:\\\\Users\\\\claud\\\\anaconda3\\\\lib\\\\site-packages\\\\matplotlib\\\\pyplot.py'>"
      ]
     },
     "execution_count": 11,
     "metadata": {},
     "output_type": "execute_result"
    },
    {
     "data": {
      "image/png": "[encoded data removed]",
      "text/plain": [
       "<Figure size 1080x504 with 1 Axes>"
      ]
     },
     "metadata": {},
     "output_type": "display_data"
    }
   ],
   "source": [
    "decile_plot(db_train, figsize_x = 15, figsize_y = 7, title_font_size = 25,\n",
    "                axis_title_font_size = 20, tick_size = 15, title_gap = 1.05, bar_text_font_size = 15, colour = palette[0])"
   ]
  },
  {
   "cell_type": "markdown",
   "id": "320693a1",
   "metadata": {},
   "source": [
    "#### 4b) Test set"
   ]
  },
  {
   "cell_type": "code",
   "execution_count": 12,
   "id": "6d87fecc",
   "metadata": {},
   "outputs": [
    {
     "data": {
      "text/html": [
       "<div>\n",
       "<style scoped>\n",
       "    .dataframe tbody tr th:only-of-type {\n",
       "        vertical-align: middle;\n",
       "    }\n",
       "\n",
       "    .dataframe tbody tr th {\n",
       "        vertical-align: top;\n",
       "    }\n",
       "\n",
       "    .dataframe thead th {\n",
       "        text-align: right;\n",
       "    }\n",
       "</style>\n",
       "<table border=\"1\" class=\"dataframe\">\n",
       "  <thead>\n",
       "    <tr style=\"text-align: right;\">\n",
       "      <th></th>\n",
       "      <th>decile</th>\n",
       "      <th>min_score</th>\n",
       "    </tr>\n",
       "  </thead>\n",
       "  <tbody>\n",
       "    <tr>\n",
       "      <th>0</th>\n",
       "      <td>1.000000</td>\n",
       "      <td>0.023551</td>\n",
       "    </tr>\n",
       "    <tr>\n",
       "      <th>288</th>\n",
       "      <td>2.000000</td>\n",
       "      <td>0.009562</td>\n",
       "    </tr>\n",
       "    <tr>\n",
       "      <th>576</th>\n",
       "      <td>3.000000</td>\n",
       "      <td>0.005671</td>\n",
       "    </tr>\n",
       "    <tr>\n",
       "      <th>864</th>\n",
       "      <td>4.000000</td>\n",
       "      <td>0.003541</td>\n",
       "    </tr>\n",
       "    <tr>\n",
       "      <th>1152</th>\n",
       "      <td>5.000000</td>\n",
       "      <td>0.002158</td>\n",
       "    </tr>\n",
       "    <tr>\n",
       "      <th>1441</th>\n",
       "      <td>6.000000</td>\n",
       "      <td>0.001454</td>\n",
       "    </tr>\n",
       "    <tr>\n",
       "      <th>1729</th>\n",
       "      <td>7.000000</td>\n",
       "      <td>0.000934</td>\n",
       "    </tr>\n",
       "    <tr>\n",
       "      <th>2017</th>\n",
       "      <td>8.000000</td>\n",
       "      <td>0.000543</td>\n",
       "    </tr>\n",
       "    <tr>\n",
       "      <th>2305</th>\n",
       "      <td>9.000000</td>\n",
       "      <td>0.000288</td>\n",
       "    </tr>\n",
       "    <tr>\n",
       "      <th>2593</th>\n",
       "      <td>10.000000</td>\n",
       "      <td>0.000019</td>\n",
       "    </tr>\n",
       "  </tbody>\n",
       "</table>\n",
       "</div>"
      ],
      "text/plain": [
       "        decile  min_score\n",
       "0     1.000000   0.023551\n",
       "288   2.000000   0.009562\n",
       "576   3.000000   0.005671\n",
       "864   4.000000   0.003541\n",
       "1152  5.000000   0.002158\n",
       "1441  6.000000   0.001454\n",
       "1729  7.000000   0.000934\n",
       "2017  8.000000   0.000543\n",
       "2305  9.000000   0.000288\n",
       "2593 10.000000   0.000019"
      ]
     },
     "metadata": {},
     "output_type": "display_data"
    },
    {
     "data": {
      "text/plain": [
       "count   721.000000\n",
       "mean      4.932039\n",
       "std       3.114855\n",
       "min       1.000000\n",
       "25%       2.000000\n",
       "50%       5.000000\n",
       "75%       8.000000\n",
       "max      10.000000\n",
       "Name: decile, dtype: float64"
      ]
     },
     "execution_count": 12,
     "metadata": {},
     "output_type": "execute_result"
    }
   ],
   "source": [
    "[df_test_preds_d, decile_bands_min_score] = deciles_per_train(df_test_preds, df_train_preds)\n",
    "df_test_preds_d['decile'].describe()"
   ]
  },
  {
   "cell_type": "code",
   "execution_count": 13,
   "id": "c9e8584e",
   "metadata": {},
   "outputs": [
    {
     "name": "stdout",
     "output_type": "stream",
     "text": [
      "44(6.1%) entries are labelled 1\n",
      "677(93.9%) entries are labelled 0\n",
      "There are 721 entries in total\n",
      "54.55% of outcomes in top 1 deciles\n",
      "\n",
      "Score Delta = 3.02\n"
     ]
    },
    {
     "data": {
      "text/html": [
       "<div>\n",
       "<style scoped>\n",
       "    .dataframe tbody tr th:only-of-type {\n",
       "        vertical-align: middle;\n",
       "    }\n",
       "\n",
       "    .dataframe tbody tr th {\n",
       "        vertical-align: top;\n",
       "    }\n",
       "\n",
       "    .dataframe thead th {\n",
       "        text-align: right;\n",
       "    }\n",
       "</style>\n",
       "<table border=\"1\" class=\"dataframe\">\n",
       "  <thead>\n",
       "    <tr style=\"text-align: right;\">\n",
       "      <th></th>\n",
       "      <th>decile</th>\n",
       "      <th>min_score</th>\n",
       "      <th>max_score</th>\n",
       "      <th>avg_score</th>\n",
       "      <th>volume</th>\n",
       "      <th>outcome_volume</th>\n",
       "      <th>outcome_rate</th>\n",
       "      <th>actual_log_odds</th>\n",
       "      <th>predicted_log_odds</th>\n",
       "      <th>score_delta</th>\n",
       "    </tr>\n",
       "  </thead>\n",
       "  <tbody>\n",
       "    <tr>\n",
       "      <th>0</th>\n",
       "      <td>1</td>\n",
       "      <td>0.023845</td>\n",
       "      <td>0.990122</td>\n",
       "      <td>0.161193</td>\n",
       "      <td>141</td>\n",
       "      <td>24.000000</td>\n",
       "      <td>0.170213</td>\n",
       "      <td>-1.584120</td>\n",
       "      <td>-1.649380</td>\n",
       "      <td>0.065260</td>\n",
       "    </tr>\n",
       "    <tr>\n",
       "      <th>1</th>\n",
       "      <td>2</td>\n",
       "      <td>0.009611</td>\n",
       "      <td>0.023549</td>\n",
       "      <td>0.015146</td>\n",
       "      <td>87</td>\n",
       "      <td>6.000000</td>\n",
       "      <td>0.068966</td>\n",
       "      <td>-2.602690</td>\n",
       "      <td>-4.174779</td>\n",
       "      <td>1.572090</td>\n",
       "    </tr>\n",
       "    <tr>\n",
       "      <th>2</th>\n",
       "      <td>3</td>\n",
       "      <td>0.005826</td>\n",
       "      <td>0.009333</td>\n",
       "      <td>0.007412</td>\n",
       "      <td>55</td>\n",
       "      <td>2.000000</td>\n",
       "      <td>0.036364</td>\n",
       "      <td>-3.277145</td>\n",
       "      <td>-4.897223</td>\n",
       "      <td>1.620078</td>\n",
       "    </tr>\n",
       "    <tr>\n",
       "      <th>3</th>\n",
       "      <td>4</td>\n",
       "      <td>0.003576</td>\n",
       "      <td>0.005611</td>\n",
       "      <td>0.004456</td>\n",
       "      <td>68</td>\n",
       "      <td>4.000000</td>\n",
       "      <td>0.058824</td>\n",
       "      <td>-2.772589</td>\n",
       "      <td>-5.409080</td>\n",
       "      <td>2.636491</td>\n",
       "    </tr>\n",
       "    <tr>\n",
       "      <th>4</th>\n",
       "      <td>5</td>\n",
       "      <td>0.002169</td>\n",
       "      <td>0.003512</td>\n",
       "      <td>0.002755</td>\n",
       "      <td>74</td>\n",
       "      <td>3.000000</td>\n",
       "      <td>0.040541</td>\n",
       "      <td>-3.164068</td>\n",
       "      <td>-5.891428</td>\n",
       "      <td>2.727360</td>\n",
       "    </tr>\n",
       "    <tr>\n",
       "      <th>5</th>\n",
       "      <td>6</td>\n",
       "      <td>0.001462</td>\n",
       "      <td>0.002144</td>\n",
       "      <td>0.001792</td>\n",
       "      <td>50</td>\n",
       "      <td>0.000000</td>\n",
       "      <td>0.000000</td>\n",
       "      <td>-inf</td>\n",
       "      <td>-6.322689</td>\n",
       "      <td>inf</td>\n",
       "    </tr>\n",
       "    <tr>\n",
       "      <th>6</th>\n",
       "      <td>7</td>\n",
       "      <td>0.000935</td>\n",
       "      <td>0.001454</td>\n",
       "      <td>0.001189</td>\n",
       "      <td>43</td>\n",
       "      <td>1.000000</td>\n",
       "      <td>0.023256</td>\n",
       "      <td>-3.737670</td>\n",
       "      <td>-6.733085</td>\n",
       "      <td>2.995416</td>\n",
       "    </tr>\n",
       "    <tr>\n",
       "      <th>7</th>\n",
       "      <td>8</td>\n",
       "      <td>0.000547</td>\n",
       "      <td>0.000931</td>\n",
       "      <td>0.000743</td>\n",
       "      <td>69</td>\n",
       "      <td>3.000000</td>\n",
       "      <td>0.043478</td>\n",
       "      <td>-3.091042</td>\n",
       "      <td>-7.204482</td>\n",
       "      <td>4.113439</td>\n",
       "    </tr>\n",
       "    <tr>\n",
       "      <th>8</th>\n",
       "      <td>9</td>\n",
       "      <td>0.000290</td>\n",
       "      <td>0.000541</td>\n",
       "      <td>0.000413</td>\n",
       "      <td>59</td>\n",
       "      <td>1.000000</td>\n",
       "      <td>0.016949</td>\n",
       "      <td>-4.060443</td>\n",
       "      <td>-7.792466</td>\n",
       "      <td>3.732023</td>\n",
       "    </tr>\n",
       "    <tr>\n",
       "      <th>9</th>\n",
       "      <td>10</td>\n",
       "      <td>0.000032</td>\n",
       "      <td>0.000274</td>\n",
       "      <td>0.000164</td>\n",
       "      <td>75</td>\n",
       "      <td>0.000000</td>\n",
       "      <td>0.000000</td>\n",
       "      <td>-inf</td>\n",
       "      <td>-8.717370</td>\n",
       "      <td>inf</td>\n",
       "    </tr>\n",
       "  </tbody>\n",
       "</table>\n",
       "</div>"
      ],
      "text/plain": [
       "   decile  min_score  max_score  avg_score  volume  outcome_volume  \\\n",
       "0       1   0.023845   0.990122   0.161193     141       24.000000   \n",
       "1       2   0.009611   0.023549   0.015146      87        6.000000   \n",
       "2       3   0.005826   0.009333   0.007412      55        2.000000   \n",
       "3       4   0.003576   0.005611   0.004456      68        4.000000   \n",
       "4       5   0.002169   0.003512   0.002755      74        3.000000   \n",
       "5       6   0.001462   0.002144   0.001792      50        0.000000   \n",
       "6       7   0.000935   0.001454   0.001189      43        1.000000   \n",
       "7       8   0.000547   0.000931   0.000743      69        3.000000   \n",
       "8       9   0.000290   0.000541   0.000413      59        1.000000   \n",
       "9      10   0.000032   0.000274   0.000164      75        0.000000   \n",
       "\n",
       "   outcome_rate  actual_log_odds  predicted_log_odds  score_delta  \n",
       "0      0.170213        -1.584120           -1.649380     0.065260  \n",
       "1      0.068966        -2.602690           -4.174779     1.572090  \n",
       "2      0.036364        -3.277145           -4.897223     1.620078  \n",
       "3      0.058824        -2.772589           -5.409080     2.636491  \n",
       "4      0.040541        -3.164068           -5.891428     2.727360  \n",
       "5      0.000000             -inf           -6.322689          inf  \n",
       "6      0.023256        -3.737670           -6.733085     2.995416  \n",
       "7      0.043478        -3.091042           -7.204482     4.113439  \n",
       "8      0.016949        -4.060443           -7.792466     3.732023  \n",
       "9      0.000000             -inf           -8.717370          inf  "
      ]
     },
     "metadata": {},
     "output_type": "display_data"
    },
    {
     "data": {
      "text/plain": [
       "<module 'matplotlib.pyplot' from 'C:\\\\Users\\\\claud\\\\anaconda3\\\\lib\\\\site-packages\\\\matplotlib\\\\pyplot.py'>"
      ]
     },
     "execution_count": 13,
     "metadata": {},
     "output_type": "execute_result"
    },
    {
     "data": {
      "image/png": "[encoded data removed]",
      "text/plain": [
       "<Figure size 1080x504 with 1 Axes>"
      ]
     },
     "metadata": {},
     "output_type": "display_data"
    }
   ],
   "source": [
    "db_test = decile_stats(df_test_preds, decile_cut_off = 1)\n",
    "display(db_test)\n",
    "decile_plot(db_test, title = 'Outcome Rate per Decile (Test)', figsize_x = 15, figsize_y = 7, title_font_size = 25,\n",
    "            axis_title_font_size = 20, tick_size = 15, title_gap = 1.05, bar_text_font_size = 15, colour = palette[1])"
   ]
  },
  {
   "cell_type": "code",
   "execution_count": 14,
   "id": "88906882",
   "metadata": {},
   "outputs": [
    {
     "name": "stdout",
     "output_type": "stream",
     "text": [
      "Overall test PSI = 0.1108\n"
     ]
    },
    {
     "data": {
      "text/html": [
       "<div>\n",
       "<style scoped>\n",
       "    .dataframe tbody tr th:only-of-type {\n",
       "        vertical-align: middle;\n",
       "    }\n",
       "\n",
       "    .dataframe tbody tr th {\n",
       "        vertical-align: top;\n",
       "    }\n",
       "\n",
       "    .dataframe thead th {\n",
       "        text-align: right;\n",
       "    }\n",
       "</style>\n",
       "<table border=\"1\" class=\"dataframe\">\n",
       "  <thead>\n",
       "    <tr style=\"text-align: right;\">\n",
       "      <th></th>\n",
       "      <th>decile</th>\n",
       "      <th>volume_train</th>\n",
       "      <th>train_percent</th>\n",
       "      <th>volume_test</th>\n",
       "      <th>test_percent</th>\n",
       "      <th>psi</th>\n",
       "    </tr>\n",
       "  </thead>\n",
       "  <tbody>\n",
       "    <tr>\n",
       "      <th>0</th>\n",
       "      <td>1.000000</td>\n",
       "      <td>288</td>\n",
       "      <td>9.993000</td>\n",
       "      <td>141</td>\n",
       "      <td>19.556000</td>\n",
       "      <td>0.064210</td>\n",
       "    </tr>\n",
       "    <tr>\n",
       "      <th>1</th>\n",
       "      <td>2.000000</td>\n",
       "      <td>288</td>\n",
       "      <td>9.993000</td>\n",
       "      <td>87</td>\n",
       "      <td>12.067000</td>\n",
       "      <td>0.003910</td>\n",
       "    </tr>\n",
       "    <tr>\n",
       "      <th>2</th>\n",
       "      <td>3.000000</td>\n",
       "      <td>288</td>\n",
       "      <td>9.993000</td>\n",
       "      <td>55</td>\n",
       "      <td>7.628000</td>\n",
       "      <td>0.006390</td>\n",
       "    </tr>\n",
       "    <tr>\n",
       "      <th>3</th>\n",
       "      <td>4.000000</td>\n",
       "      <td>288</td>\n",
       "      <td>9.993000</td>\n",
       "      <td>68</td>\n",
       "      <td>9.431000</td>\n",
       "      <td>0.000330</td>\n",
       "    </tr>\n",
       "    <tr>\n",
       "      <th>4</th>\n",
       "      <td>5.000000</td>\n",
       "      <td>289</td>\n",
       "      <td>10.028000</td>\n",
       "      <td>74</td>\n",
       "      <td>10.264000</td>\n",
       "      <td>0.000050</td>\n",
       "    </tr>\n",
       "    <tr>\n",
       "      <th>5</th>\n",
       "      <td>6.000000</td>\n",
       "      <td>288</td>\n",
       "      <td>9.993000</td>\n",
       "      <td>50</td>\n",
       "      <td>6.935000</td>\n",
       "      <td>0.011170</td>\n",
       "    </tr>\n",
       "    <tr>\n",
       "      <th>6</th>\n",
       "      <td>7.000000</td>\n",
       "      <td>288</td>\n",
       "      <td>9.993000</td>\n",
       "      <td>43</td>\n",
       "      <td>5.964000</td>\n",
       "      <td>0.020800</td>\n",
       "    </tr>\n",
       "    <tr>\n",
       "      <th>7</th>\n",
       "      <td>8.000000</td>\n",
       "      <td>288</td>\n",
       "      <td>9.993000</td>\n",
       "      <td>69</td>\n",
       "      <td>9.570000</td>\n",
       "      <td>0.000180</td>\n",
       "    </tr>\n",
       "    <tr>\n",
       "      <th>8</th>\n",
       "      <td>9.000000</td>\n",
       "      <td>288</td>\n",
       "      <td>9.993000</td>\n",
       "      <td>59</td>\n",
       "      <td>8.183000</td>\n",
       "      <td>0.003620</td>\n",
       "    </tr>\n",
       "    <tr>\n",
       "      <th>9</th>\n",
       "      <td>10.000000</td>\n",
       "      <td>289</td>\n",
       "      <td>10.028000</td>\n",
       "      <td>75</td>\n",
       "      <td>10.402000</td>\n",
       "      <td>0.000140</td>\n",
       "    </tr>\n",
       "  </tbody>\n",
       "</table>\n",
       "</div>"
      ],
      "text/plain": [
       "     decile  volume_train  train_percent  volume_test  test_percent      psi\n",
       "0  1.000000           288       9.993000          141     19.556000 0.064210\n",
       "1  2.000000           288       9.993000           87     12.067000 0.003910\n",
       "2  3.000000           288       9.993000           55      7.628000 0.006390\n",
       "3  4.000000           288       9.993000           68      9.431000 0.000330\n",
       "4  5.000000           289      10.028000           74     10.264000 0.000050\n",
       "5  6.000000           288       9.993000           50      6.935000 0.011170\n",
       "6  7.000000           288       9.993000           43      5.964000 0.020800\n",
       "7  8.000000           288       9.993000           69      9.570000 0.000180\n",
       "8  9.000000           288       9.993000           59      8.183000 0.003620\n",
       "9 10.000000           289      10.028000           75     10.402000 0.000140"
      ]
     },
     "execution_count": 14,
     "metadata": {},
     "output_type": "execute_result"
    }
   ],
   "source": [
    "psi_df = psi_calc(db_train, db_test)[0]\n",
    "psi_df"
   ]
  },
  {
   "cell_type": "markdown",
   "id": "8b45428c",
   "metadata": {},
   "source": [
    "<a id=\"id_5\"></a>\n",
    "## 5. Threshold Statistics"
   ]
  },
  {
   "cell_type": "code",
   "execution_count": 15,
   "id": "2fed5f30",
   "metadata": {},
   "outputs": [
    {
     "data": {
      "application/vnd.plotly.v1+json": {
       "config": {
        "linkText": "Export to plot.ly",
        "plotlyServerURL": "https://plot.ly",
        "showLink": true
       },
       "data": [
        {
         "line": {
          "color": "rgba(135, 10, 232, 1.0)",
          "dash": "solid",
          "shape": "linear",
          "width": 1.3
         },
         "mode": "lines",
         "name": "metric",
         "text": "",
         "type": "scatter",
         "x": [
          0,
          0.1,
          0.2,
          0.30000000000000004,
          0.4,
          0.5,
          0.6000000000000001,
          0.7000000000000001,
          0.8,
          0.9
         ],
         "y": [
          0.1150326797385621,
          0.3,
          0.30769230769230765,
          0.2535211267605634,
          0.13559322033898305,
          0.14545454545454545,
          0.1509433962264151,
          0.1176470588235294,
          0.08333333333333334,
          0.044444444444444446
         ]
        }
       ],
       "layout": {
        "height": 800,
        "legend": {
         "bgcolor": "#F5F6F9",
         "font": {
          "color": "#4D5663"
         }
        },
        "margin": {
         "b": 70,
         "l": 70,
         "r": 70,
         "t": 70
        },
        "paper_bgcolor": "#F5F6F9",
        "plot_bgcolor": "#F5F6F9",
        "template": {
         "data": {
          "bar": [
           {
            "error_x": {
             "color": "#2a3f5f"
            },
            "error_y": {
             "color": "#2a3f5f"
            },
            "marker": {
             "line": {
              "color": "#E5ECF6",
              "width": 0.5
             },
             "pattern": {
              "fillmode": "overlay",
              "size": 10,
              "solidity": 0.2
             }
            },
            "type": "bar"
           }
          ],
          "barpolar": [
           {
            "marker": {
             "line": {
              "color": "#E5ECF6",
              "width": 0.5
             },
             "pattern": {
              "fillmode": "overlay",
              "size": 10,
              "solidity": 0.2
             }
            },
            "type": "barpolar"
           }
          ],
          "carpet": [
           {
            "aaxis": {
             "endlinecolor": "#2a3f5f",
             "gridcolor": "white",
             "linecolor": "white",
             "minorgridcolor": "white",
             "startlinecolor": "#2a3f5f"
            },
            "baxis": {
             "endlinecolor": "#2a3f5f",
             "gridcolor": "white",
             "linecolor": "white",
             "minorgridcolor": "white",
             "startlinecolor": "#2a3f5f"
            },
            "type": "carpet"
           }
          ],
          "choropleth": [
           {
            "colorbar": {
             "outlinewidth": 0,
             "ticks": ""
            },
            "type": "choropleth"
           }
          ],
          "contour": [
           {
            "colorbar": {
             "outlinewidth": 0,
             "ticks": ""
            },
            "colorscale": [
             [
              0,
              "#0d0887"
             ],
             [
              0.1111111111111111,
              "#46039f"
             ],
             [
              0.2222222222222222,
              "#7201a8"
             ],
             [
              0.3333333333333333,
              "#9c179e"
             ],
             [
              0.4444444444444444,
              "#bd3786"
             ],
             [
              0.5555555555555556,
              "#d8576b"
             ],
             [
              0.6666666666666666,
              "#ed7953"
             ],
             [
              0.7777777777777778,
              "#fb9f3a"
             ],
             [
              0.8888888888888888,
              "#fdca26"
             ],
             [
              1,
              "#f0f921"
             ]
            ],
            "type": "contour"
           }
          ],
          "contourcarpet": [
           {
            "colorbar": {
             "outlinewidth": 0,
             "ticks": ""
            },
            "type": "contourcarpet"
           }
          ],
          "heatmap": [
           {
            "colorbar": {
             "outlinewidth": 0,
             "ticks": ""
            },
            "colorscale": [
             [
              0,
              "#0d0887"
             ],
             [
              0.1111111111111111,
              "#46039f"
             ],
             [
              0.2222222222222222,
              "#7201a8"
             ],
             [
              0.3333333333333333,
              "#9c179e"
             ],
             [
              0.4444444444444444,
              "#bd3786"
             ],
             [
              0.5555555555555556,
              "#d8576b"
             ],
             [
              0.6666666666666666,
              "#ed7953"
             ],
             [
              0.7777777777777778,
              "#fb9f3a"
             ],
             [
              0.8888888888888888,
              "#fdca26"
             ],
             [
              1,
              "#f0f921"
             ]
            ],
            "type": "heatmap"
           }
          ],
          "heatmapgl": [
           {
            "colorbar": {
             "outlinewidth": 0,
             "ticks": ""
            },
            "colorscale": [
             [
              0,
              "#0d0887"
             ],
             [
              0.1111111111111111,
              "#46039f"
             ],
             [
              0.2222222222222222,
              "#7201a8"
             ],
             [
              0.3333333333333333,
              "#9c179e"
             ],
             [
              0.4444444444444444,
              "#bd3786"
             ],
             [
              0.5555555555555556,
              "#d8576b"
             ],
             [
              0.6666666666666666,
              "#ed7953"
             ],
             [
              0.7777777777777778,
              "#fb9f3a"
             ],
             [
              0.8888888888888888,
              "#fdca26"
             ],
             [
              1,
              "#f0f921"
             ]
            ],
            "type": "heatmapgl"
           }
          ],
          "histogram": [
           {
            "marker": {
             "pattern": {
              "fillmode": "overlay",
              "size": 10,
              "solidity": 0.2
             }
            },
            "type": "histogram"
           }
          ],
          "histogram2d": [
           {
            "colorbar": {
             "outlinewidth": 0,
             "ticks": ""
            },
            "colorscale": [
             [
              0,
              "#0d0887"
             ],
             [
              0.1111111111111111,
              "#46039f"
             ],
             [
              0.2222222222222222,
              "#7201a8"
             ],
             [
              0.3333333333333333,
              "#9c179e"
             ],
             [
              0.4444444444444444,
              "#bd3786"
             ],
             [
              0.5555555555555556,
              "#d8576b"
             ],
             [
              0.6666666666666666,
              "#ed7953"
             ],
             [
              0.7777777777777778,
              "#fb9f3a"
             ],
             [
              0.8888888888888888,
              "#fdca26"
             ],
             [
              1,
              "#f0f921"
             ]
            ],
            "type": "histogram2d"
           }
          ],
          "histogram2dcontour": [
           {
            "colorbar": {
             "outlinewidth": 0,
             "ticks": ""
            },
            "colorscale": [
             [
              0,
              "#0d0887"
             ],
             [
              0.1111111111111111,
              "#46039f"
             ],
             [
              0.2222222222222222,
              "#7201a8"
             ],
             [
              0.3333333333333333,
              "#9c179e"
             ],
             [
              0.4444444444444444,
              "#bd3786"
             ],
             [
              0.5555555555555556,
              "#d8576b"
             ],
             [
              0.6666666666666666,
              "#ed7953"
             ],
             [
              0.7777777777777778,
              "#fb9f3a"
             ],
             [
              0.8888888888888888,
              "#fdca26"
             ],
             [
              1,
              "#f0f921"
             ]
            ],
            "type": "histogram2dcontour"
           }
          ],
          "mesh3d": [
           {
            "colorbar": {
             "outlinewidth": 0,
             "ticks": ""
            },
            "type": "mesh3d"
           }
          ],
          "parcoords": [
           {
            "line": {
             "colorbar": {
              "outlinewidth": 0,
              "ticks": ""
             }
            },
            "type": "parcoords"
           }
          ],
          "pie": [
           {
            "automargin": true,
            "type": "pie"
           }
          ],
          "scatter": [
           {
            "marker": {
             "colorbar": {
              "outlinewidth": 0,
              "ticks": ""
             }
            },
            "type": "scatter"
           }
          ],
          "scatter3d": [
           {
            "line": {
             "colorbar": {
              "outlinewidth": 0,
              "ticks": ""
             }
            },
            "marker": {
             "colorbar": {
              "outlinewidth": 0,
              "ticks": ""
             }
            },
            "type": "scatter3d"
           }
          ],
          "scattercarpet": [
           {
            "marker": {
             "colorbar": {
              "outlinewidth": 0,
              "ticks": ""
             }
            },
            "type": "scattercarpet"
           }
          ],
          "scattergeo": [
           {
            "marker": {
             "colorbar": {
              "outlinewidth": 0,
              "ticks": ""
             }
            },
            "type": "scattergeo"
           }
          ],
          "scattergl": [
           {
            "marker": {
             "colorbar": {
              "outlinewidth": 0,
              "ticks": ""
             }
            },
            "type": "scattergl"
           }
          ],
          "scattermapbox": [
           {
            "marker": {
             "colorbar": {
              "outlinewidth": 0,
              "ticks": ""
             }
            },
            "type": "scattermapbox"
           }
          ],
          "scatterpolar": [
           {
            "marker": {
             "colorbar": {
              "outlinewidth": 0,
              "ticks": ""
             }
            },
            "type": "scatterpolar"
           }
          ],
          "scatterpolargl": [
           {
            "marker": {
             "colorbar": {
              "outlinewidth": 0,
              "ticks": ""
             }
            },
            "type": "scatterpolargl"
           }
          ],
          "scatterternary": [
           {
            "marker": {
             "colorbar": {
              "outlinewidth": 0,
              "ticks": ""
             }
            },
            "type": "scatterternary"
           }
          ],
          "surface": [
           {
            "colorbar": {
             "outlinewidth": 0,
             "ticks": ""
            },
            "colorscale": [
             [
              0,
              "#0d0887"
             ],
             [
              0.1111111111111111,
              "#46039f"
             ],
             [
              0.2222222222222222,
              "#7201a8"
             ],
             [
              0.3333333333333333,
              "#9c179e"
             ],
             [
              0.4444444444444444,
              "#bd3786"
             ],
             [
              0.5555555555555556,
              "#d8576b"
             ],
             [
              0.6666666666666666,
              "#ed7953"
             ],
             [
              0.7777777777777778,
              "#fb9f3a"
             ],
             [
              0.8888888888888888,
              "#fdca26"
             ],
             [
              1,
              "#f0f921"
             ]
            ],
            "type": "surface"
           }
          ],
          "table": [
           {
            "cells": {
             "fill": {
              "color": "#EBF0F8"
             },
             "line": {
              "color": "white"
             }
            },
            "header": {
             "fill": {
              "color": "#C8D4E3"
             },
             "line": {
              "color": "white"
             }
            },
            "type": "table"
           }
          ]
         },
         "layout": {
          "annotationdefaults": {
           "arrowcolor": "#2a3f5f",
           "arrowhead": 0,
           "arrowwidth": 1
          },
          "autotypenumbers": "strict",
          "coloraxis": {
           "colorbar": {
            "outlinewidth": 0,
            "ticks": ""
           }
          },
          "colorscale": {
           "diverging": [
            [
             0,
             "#8e0152"
            ],
            [
             0.1,
             "#c51b7d"
            ],
            [
             0.2,
             "#de77ae"
            ],
            [
             0.3,
             "#f1b6da"
            ],
            [
             0.4,
             "#fde0ef"
            ],
            [
             0.5,
             "#f7f7f7"
            ],
            [
             0.6,
             "#e6f5d0"
            ],
            [
             0.7,
             "#b8e186"
            ],
            [
             0.8,
             "#7fbc41"
            ],
            [
             0.9,
             "#4d9221"
            ],
            [
             1,
             "#276419"
            ]
           ],
           "sequential": [
            [
             0,
             "#0d0887"
            ],
            [
             0.1111111111111111,
             "#46039f"
            ],
            [
             0.2222222222222222,
             "#7201a8"
            ],
            [
             0.3333333333333333,
             "#9c179e"
            ],
            [
             0.4444444444444444,
             "#bd3786"
            ],
            [
             0.5555555555555556,
             "#d8576b"
            ],
            [
             0.6666666666666666,
             "#ed7953"
            ],
            [
             0.7777777777777778,
             "#fb9f3a"
            ],
            [
             0.8888888888888888,
             "#fdca26"
            ],
            [
             1,
             "#f0f921"
            ]
           ],
           "sequentialminus": [
            [
             0,
             "#0d0887"
            ],
            [
             0.1111111111111111,
             "#46039f"
            ],
            [
             0.2222222222222222,
             "#7201a8"
            ],
            [
             0.3333333333333333,
             "#9c179e"
            ],
            [
             0.4444444444444444,
             "#bd3786"
            ],
            [
             0.5555555555555556,
             "#d8576b"
            ],
            [
             0.6666666666666666,
             "#ed7953"
            ],
            [
             0.7777777777777778,
             "#fb9f3a"
            ],
            [
             0.8888888888888888,
             "#fdca26"
            ],
            [
             1,
             "#f0f921"
            ]
           ]
          },
          "colorway": [
           "#636efa",
           "#EF553B",
           "#00cc96",
           "#ab63fa",
           "#FFA15A",
           "#19d3f3",
           "#FF6692",
           "#B6E880",
           "#FF97FF",
           "#FECB52"
          ],
          "font": {
           "color": "#2a3f5f"
          },
          "geo": {
           "bgcolor": "white",
           "lakecolor": "white",
           "landcolor": "#E5ECF6",
           "showlakes": true,
           "showland": true,
           "subunitcolor": "white"
          },
          "hoverlabel": {
           "align": "left"
          },
          "hovermode": "closest",
          "mapbox": {
           "style": "light"
          },
          "paper_bgcolor": "white",
          "plot_bgcolor": "#E5ECF6",
          "polar": {
           "angularaxis": {
            "gridcolor": "white",
            "linecolor": "white",
            "ticks": ""
           },
           "bgcolor": "#E5ECF6",
           "radialaxis": {
            "gridcolor": "white",
            "linecolor": "white",
            "ticks": ""
           }
          },
          "scene": {
           "xaxis": {
            "backgroundcolor": "#E5ECF6",
            "gridcolor": "white",
            "gridwidth": 2,
            "linecolor": "white",
            "showbackground": true,
            "ticks": "",
            "zerolinecolor": "white"
           },
           "yaxis": {
            "backgroundcolor": "#E5ECF6",
            "gridcolor": "white",
            "gridwidth": 2,
            "linecolor": "white",
            "showbackground": true,
            "ticks": "",
            "zerolinecolor": "white"
           },
           "zaxis": {
            "backgroundcolor": "#E5ECF6",
            "gridcolor": "white",
            "gridwidth": 2,
            "linecolor": "white",
            "showbackground": true,
            "ticks": "",
            "zerolinecolor": "white"
           }
          },
          "shapedefaults": {
           "line": {
            "color": "#2a3f5f"
           }
          },
          "ternary": {
           "aaxis": {
            "gridcolor": "white",
            "linecolor": "white",
            "ticks": ""
           },
           "baxis": {
            "gridcolor": "white",
            "linecolor": "white",
            "ticks": ""
           },
           "bgcolor": "#E5ECF6",
           "caxis": {
            "gridcolor": "white",
            "linecolor": "white",
            "ticks": ""
           }
          },
          "title": {
           "x": 0.05
          },
          "xaxis": {
           "automargin": true,
           "gridcolor": "white",
           "linecolor": "white",
           "ticks": "",
           "title": {
            "standoff": 15
           },
           "zerolinecolor": "white",
           "zerolinewidth": 2
          },
          "yaxis": {
           "automargin": true,
           "gridcolor": "white",
           "linecolor": "white",
           "ticks": "",
           "title": {
            "standoff": 15
           },
           "zerolinecolor": "white",
           "zerolinewidth": 2
          }
         }
        },
        "title": {
         "font": {
          "color": "#4D5663"
         },
         "text": "Probability Thresholds by f1"
        },
        "width": 800,
        "xaxis": {
         "gridcolor": "#E1E5ED",
         "showgrid": true,
         "tickfont": {
          "color": "#4D5663"
         },
         "title": {
          "font": {
           "color": "#4D5663"
          },
          "text": "Threshold"
         },
         "zerolinecolor": "#E1E5ED"
        },
        "yaxis": {
         "gridcolor": "#E1E5ED",
         "showgrid": true,
         "tickfont": {
          "color": "#4D5663"
         },
         "title": {
          "font": {
           "color": "#4D5663"
          },
          "text": "f1"
         },
         "zerolinecolor": "#E1E5ED"
        }
       }
      },
      "text/html": [
       "<div>                            <div id=\"cfc427aa-ab18-47ff-b720-8a2eb73181ef\" class=\"plotly-graph-div\" style=\"height:800px; width:800px;\"></div>            <script type=\"text/javascript\">                require([\"plotly\"], function(Plotly) {                    window.PLOTLYENV=window.PLOTLYENV || {};\n",
       "                    window.PLOTLYENV.BASE_URL='https://plot.ly';                                    if (document.getElementById(\"cfc427aa-ab18-47ff-b720-8a2eb73181ef\")) {                    Plotly.newPlot(                        \"cfc427aa-ab18-47ff-b720-8a2eb73181ef\",                        [{\"line\":{\"color\":\"rgba(135, 10, 232, 1.0)\",\"dash\":\"solid\",\"shape\":\"linear\",\"width\":1.3},\"mode\":\"lines\",\"name\":\"metric\",\"text\":\"\",\"x\":[0.0,0.1,0.2,0.30000000000000004,0.4,0.5,0.6000000000000001,0.7000000000000001,0.8,0.9],\"y\":[0.1150326797385621,0.3,0.30769230769230765,0.2535211267605634,0.13559322033898305,0.14545454545454545,0.1509433962264151,0.1176470588235294,0.08333333333333334,0.044444444444444446],\"type\":\"scatter\"}],                        {\"height\":800,\"legend\":{\"bgcolor\":\"#F5F6F9\",\"font\":{\"color\":\"#4D5663\"}},\"margin\":{\"b\":70,\"l\":70,\"r\":70,\"t\":70},\"paper_bgcolor\":\"#F5F6F9\",\"plot_bgcolor\":\"#F5F6F9\",\"template\":{\"data\":{\"barpolar\":[{\"marker\":{\"line\":{\"color\":\"#E5ECF6\",\"width\":0.5},\"pattern\":{\"fillmode\":\"overlay\",\"size\":10,\"solidity\":0.2}},\"type\":\"barpolar\"}],\"bar\":[{\"error_x\":{\"color\":\"#2a3f5f\"},\"error_y\":{\"color\":\"#2a3f5f\"},\"marker\":{\"line\":{\"color\":\"#E5ECF6\",\"width\":0.5},\"pattern\":{\"fillmode\":\"overlay\",\"size\":10,\"solidity\":0.2}},\"type\":\"bar\"}],\"carpet\":[{\"aaxis\":{\"endlinecolor\":\"#2a3f5f\",\"gridcolor\":\"white\",\"linecolor\":\"white\",\"minorgridcolor\":\"white\",\"startlinecolor\":\"#2a3f5f\"},\"baxis\":{\"endlinecolor\":\"#2a3f5f\",\"gridcolor\":\"white\",\"linecolor\":\"white\",\"minorgridcolor\":\"white\",\"startlinecolor\":\"#2a3f5f\"},\"type\":\"carpet\"}],\"choropleth\":[{\"colorbar\":{\"outlinewidth\":0,\"ticks\":\"\"},\"type\":\"choropleth\"}],\"contourcarpet\":[{\"colorbar\":{\"outlinewidth\":0,\"ticks\":\"\"},\"type\":\"contourcarpet\"}],\"contour\":[{\"colorbar\":{\"outlinewidth\":0,\"ticks\":\"\"},\"colorscale\":[[0.0,\"#0d0887\"],[0.1111111111111111,\"#46039f\"],[0.2222222222222222,\"#7201a8\"],[0.3333333333333333,\"#9c179e\"],[0.4444444444444444,\"#bd3786\"],[0.5555555555555556,\"#d8576b\"],[0.6666666666666666,\"#ed7953\"],[0.7777777777777778,\"#fb9f3a\"],[0.8888888888888888,\"#fdca26\"],[1.0,\"#f0f921\"]],\"type\":\"contour\"}],\"heatmapgl\":[{\"colorbar\":{\"outlinewidth\":0,\"ticks\":\"\"},\"colorscale\":[[0.0,\"#0d0887\"],[0.1111111111111111,\"#46039f\"],[0.2222222222222222,\"#7201a8\"],[0.3333333333333333,\"#9c179e\"],[0.4444444444444444,\"#bd3786\"],[0.5555555555555556,\"#d8576b\"],[0.6666666666666666,\"#ed7953\"],[0.7777777777777778,\"#fb9f3a\"],[0.8888888888888888,\"#fdca26\"],[1.0,\"#f0f921\"]],\"type\":\"heatmapgl\"}],\"heatmap\":[{\"colorbar\":{\"outlinewidth\":0,\"ticks\":\"\"},\"colorscale\":[[0.0,\"#0d0887\"],[0.1111111111111111,\"#46039f\"],[0.2222222222222222,\"#7201a8\"],[0.3333333333333333,\"#9c179e\"],[0.4444444444444444,\"#bd3786\"],[0.5555555555555556,\"#d8576b\"],[0.6666666666666666,\"#ed7953\"],[0.7777777777777778,\"#fb9f3a\"],[0.8888888888888888,\"#fdca26\"],[1.0,\"#f0f921\"]],\"type\":\"heatmap\"}],\"histogram2dcontour\":[{\"colorbar\":{\"outlinewidth\":0,\"ticks\":\"\"},\"colorscale\":[[0.0,\"#0d0887\"],[0.1111111111111111,\"#46039f\"],[0.2222222222222222,\"#7201a8\"],[0.3333333333333333,\"#9c179e\"],[0.4444444444444444,\"#bd3786\"],[0.5555555555555556,\"#d8576b\"],[0.6666666666666666,\"#ed7953\"],[0.7777777777777778,\"#fb9f3a\"],[0.8888888888888888,\"#fdca26\"],[1.0,\"#f0f921\"]],\"type\":\"histogram2dcontour\"}],\"histogram2d\":[{\"colorbar\":{\"outlinewidth\":0,\"ticks\":\"\"},\"colorscale\":[[0.0,\"#0d0887\"],[0.1111111111111111,\"#46039f\"],[0.2222222222222222,\"#7201a8\"],[0.3333333333333333,\"#9c179e\"],[0.4444444444444444,\"#bd3786\"],[0.5555555555555556,\"#d8576b\"],[0.6666666666666666,\"#ed7953\"],[0.7777777777777778,\"#fb9f3a\"],[0.8888888888888888,\"#fdca26\"],[1.0,\"#f0f921\"]],\"type\":\"histogram2d\"}],\"histogram\":[{\"marker\":{\"pattern\":{\"fillmode\":\"overlay\",\"size\":10,\"solidity\":0.2}},\"type\":\"histogram\"}],\"mesh3d\":[{\"colorbar\":{\"outlinewidth\":0,\"ticks\":\"\"},\"type\":\"mesh3d\"}],\"parcoords\":[{\"line\":{\"colorbar\":{\"outlinewidth\":0,\"ticks\":\"\"}},\"type\":\"parcoords\"}],\"pie\":[{\"automargin\":true,\"type\":\"pie\"}],\"scatter3d\":[{\"line\":{\"colorbar\":{\"outlinewidth\":0,\"ticks\":\"\"}},\"marker\":{\"colorbar\":{\"outlinewidth\":0,\"ticks\":\"\"}},\"type\":\"scatter3d\"}],\"scattercarpet\":[{\"marker\":{\"colorbar\":{\"outlinewidth\":0,\"ticks\":\"\"}},\"type\":\"scattercarpet\"}],\"scattergeo\":[{\"marker\":{\"colorbar\":{\"outlinewidth\":0,\"ticks\":\"\"}},\"type\":\"scattergeo\"}],\"scattergl\":[{\"marker\":{\"colorbar\":{\"outlinewidth\":0,\"ticks\":\"\"}},\"type\":\"scattergl\"}],\"scattermapbox\":[{\"marker\":{\"colorbar\":{\"outlinewidth\":0,\"ticks\":\"\"}},\"type\":\"scattermapbox\"}],\"scatterpolargl\":[{\"marker\":{\"colorbar\":{\"outlinewidth\":0,\"ticks\":\"\"}},\"type\":\"scatterpolargl\"}],\"scatterpolar\":[{\"marker\":{\"colorbar\":{\"outlinewidth\":0,\"ticks\":\"\"}},\"type\":\"scatterpolar\"}],\"scatter\":[{\"marker\":{\"colorbar\":{\"outlinewidth\":0,\"ticks\":\"\"}},\"type\":\"scatter\"}],\"scatterternary\":[{\"marker\":{\"colorbar\":{\"outlinewidth\":0,\"ticks\":\"\"}},\"type\":\"scatterternary\"}],\"surface\":[{\"colorbar\":{\"outlinewidth\":0,\"ticks\":\"\"},\"colorscale\":[[0.0,\"#0d0887\"],[0.1111111111111111,\"#46039f\"],[0.2222222222222222,\"#7201a8\"],[0.3333333333333333,\"#9c179e\"],[0.4444444444444444,\"#bd3786\"],[0.5555555555555556,\"#d8576b\"],[0.6666666666666666,\"#ed7953\"],[0.7777777777777778,\"#fb9f3a\"],[0.8888888888888888,\"#fdca26\"],[1.0,\"#f0f921\"]],\"type\":\"surface\"}],\"table\":[{\"cells\":{\"fill\":{\"color\":\"#EBF0F8\"},\"line\":{\"color\":\"white\"}},\"header\":{\"fill\":{\"color\":\"#C8D4E3\"},\"line\":{\"color\":\"white\"}},\"type\":\"table\"}]},\"layout\":{\"annotationdefaults\":{\"arrowcolor\":\"#2a3f5f\",\"arrowhead\":0,\"arrowwidth\":1},\"autotypenumbers\":\"strict\",\"coloraxis\":{\"colorbar\":{\"outlinewidth\":0,\"ticks\":\"\"}},\"colorscale\":{\"diverging\":[[0,\"#8e0152\"],[0.1,\"#c51b7d\"],[0.2,\"#de77ae\"],[0.3,\"#f1b6da\"],[0.4,\"#fde0ef\"],[0.5,\"#f7f7f7\"],[0.6,\"#e6f5d0\"],[0.7,\"#b8e186\"],[0.8,\"#7fbc41\"],[0.9,\"#4d9221\"],[1,\"#276419\"]],\"sequential\":[[0.0,\"#0d0887\"],[0.1111111111111111,\"#46039f\"],[0.2222222222222222,\"#7201a8\"],[0.3333333333333333,\"#9c179e\"],[0.4444444444444444,\"#bd3786\"],[0.5555555555555556,\"#d8576b\"],[0.6666666666666666,\"#ed7953\"],[0.7777777777777778,\"#fb9f3a\"],[0.8888888888888888,\"#fdca26\"],[1.0,\"#f0f921\"]],\"sequentialminus\":[[0.0,\"#0d0887\"],[0.1111111111111111,\"#46039f\"],[0.2222222222222222,\"#7201a8\"],[0.3333333333333333,\"#9c179e\"],[0.4444444444444444,\"#bd3786\"],[0.5555555555555556,\"#d8576b\"],[0.6666666666666666,\"#ed7953\"],[0.7777777777777778,\"#fb9f3a\"],[0.8888888888888888,\"#fdca26\"],[1.0,\"#f0f921\"]]},\"colorway\":[\"#636efa\",\"#EF553B\",\"#00cc96\",\"#ab63fa\",\"#FFA15A\",\"#19d3f3\",\"#FF6692\",\"#B6E880\",\"#FF97FF\",\"#FECB52\"],\"font\":{\"color\":\"#2a3f5f\"},\"geo\":{\"bgcolor\":\"white\",\"lakecolor\":\"white\",\"landcolor\":\"#E5ECF6\",\"showlakes\":true,\"showland\":true,\"subunitcolor\":\"white\"},\"hoverlabel\":{\"align\":\"left\"},\"hovermode\":\"closest\",\"mapbox\":{\"style\":\"light\"},\"paper_bgcolor\":\"white\",\"plot_bgcolor\":\"#E5ECF6\",\"polar\":{\"angularaxis\":{\"gridcolor\":\"white\",\"linecolor\":\"white\",\"ticks\":\"\"},\"bgcolor\":\"#E5ECF6\",\"radialaxis\":{\"gridcolor\":\"white\",\"linecolor\":\"white\",\"ticks\":\"\"}},\"scene\":{\"xaxis\":{\"backgroundcolor\":\"#E5ECF6\",\"gridcolor\":\"white\",\"gridwidth\":2,\"linecolor\":\"white\",\"showbackground\":true,\"ticks\":\"\",\"zerolinecolor\":\"white\"},\"yaxis\":{\"backgroundcolor\":\"#E5ECF6\",\"gridcolor\":\"white\",\"gridwidth\":2,\"linecolor\":\"white\",\"showbackground\":true,\"ticks\":\"\",\"zerolinecolor\":\"white\"},\"zaxis\":{\"backgroundcolor\":\"#E5ECF6\",\"gridcolor\":\"white\",\"gridwidth\":2,\"linecolor\":\"white\",\"showbackground\":true,\"ticks\":\"\",\"zerolinecolor\":\"white\"}},\"shapedefaults\":{\"line\":{\"color\":\"#2a3f5f\"}},\"ternary\":{\"aaxis\":{\"gridcolor\":\"white\",\"linecolor\":\"white\",\"ticks\":\"\"},\"baxis\":{\"gridcolor\":\"white\",\"linecolor\":\"white\",\"ticks\":\"\"},\"bgcolor\":\"#E5ECF6\",\"caxis\":{\"gridcolor\":\"white\",\"linecolor\":\"white\",\"ticks\":\"\"}},\"title\":{\"x\":0.05},\"xaxis\":{\"automargin\":true,\"gridcolor\":\"white\",\"linecolor\":\"white\",\"ticks\":\"\",\"title\":{\"standoff\":15},\"zerolinecolor\":\"white\",\"zerolinewidth\":2},\"yaxis\":{\"automargin\":true,\"gridcolor\":\"white\",\"linecolor\":\"white\",\"ticks\":\"\",\"title\":{\"standoff\":15},\"zerolinecolor\":\"white\",\"zerolinewidth\":2}}},\"title\":{\"font\":{\"color\":\"#4D5663\"},\"text\":\"Probability Thresholds by f1\"},\"width\":800,\"xaxis\":{\"gridcolor\":\"#E1E5ED\",\"showgrid\":true,\"tickfont\":{\"color\":\"#4D5663\"},\"title\":{\"font\":{\"color\":\"#4D5663\"},\"text\":\"Threshold\"},\"zerolinecolor\":\"#E1E5ED\"},\"yaxis\":{\"gridcolor\":\"#E1E5ED\",\"showgrid\":true,\"tickfont\":{\"color\":\"#4D5663\"},\"title\":{\"font\":{\"color\":\"#4D5663\"},\"text\":\"f1\"},\"zerolinecolor\":\"#E1E5ED\"}},                        {\"showLink\": true, \"linkText\": \"Export to plot.ly\", \"plotlyServerURL\": \"https://plot.ly\", \"responsive\": true}                    ).then(function(){\n",
       "                            \n",
       "var gd = document.getElementById('cfc427aa-ab18-47ff-b720-8a2eb73181ef');\n",
       "var x = new MutationObserver(function (mutations, observer) {{\n",
       "        var display = window.getComputedStyle(gd).display;\n",
       "        if (!display || display === 'none') {{\n",
       "            console.log([gd, 'removed!']);\n",
       "            Plotly.purge(gd);\n",
       "            observer.disconnect();\n",
       "        }}\n",
       "}});\n",
       "\n",
       "// Listen for the removal of the full notebook cells\n",
       "var notebookContainer = gd.closest('#notebook-container');\n",
       "if (notebookContainer) {{\n",
       "    x.observe(notebookContainer, {childList: true});\n",
       "}}\n",
       "\n",
       "// Listen for the clearing of the current output cell\n",
       "var outputEl = gd.closest('.output');\n",
       "if (outputEl) {{\n",
       "    x.observe(outputEl, {childList: true});\n",
       "}}\n",
       "\n",
       "                        })                };                });            </script>        </div>"
      ]
     },
     "metadata": {},
     "output_type": "display_data"
    }
   ],
   "source": [
    "[threshold_df, opt_threshold] = opt_prob_threshold(test_probs, Y_test, metric = 'f1', colour = rgb_palette[2])"
   ]
  },
  {
   "cell_type": "code",
   "execution_count": 16,
   "id": "9e53cbc9",
   "metadata": {},
   "outputs": [
    {
     "name": "stdout",
     "output_type": "stream",
     "text": [
      "              precision    recall  f1-score   support\n",
      "\n",
      "           0       0.95      0.97      0.96       677\n",
      "           1       0.35      0.27      0.31        44\n",
      "\n",
      "    accuracy                           0.93       721\n",
      "   macro avg       0.65      0.62      0.63       721\n",
      "weighted avg       0.92      0.93      0.92       721\n",
      "\n",
      "True positive rate (sensitivity/recall) = 1.8%\n",
      "False positive rate = 3.25%\n",
      "Precision = 35.29%\n",
      "False discovery rate = 64.71%\n",
      "False negative rate = 72.73%\n",
      "True negative rate = 96.75%\n"
     ]
    },
    {
     "data": {
      "image/png": "[encoded data removed]",
      "text/plain": [
       "<Figure size 1368x288 with 6 Axes>"
      ]
     },
     "metadata": {},
     "output_type": "display_data"
    }
   ],
   "source": [
    "cm = threshold_based_metrics(df_test_preds, actual_label_col = 'Label', threshold = opt_threshold, score_col = 'label_1_prob')"
   ]
  },
  {
   "cell_type": "markdown",
   "id": "24c9d441",
   "metadata": {},
   "source": [
    "[Back to top](#id_0)"
   ]
  }
 ],
 "metadata": {
  "kernelspec": {
   "display_name": "Python 3 (ipykernel)",
   "language": "python",
   "name": "python3"
  },
  "language_info": {
   "codemirror_mode": {
    "name": "ipython",
    "version": 3
   },
   "file_extension": ".py",
   "mimetype": "text/x-python",
   "name": "python",
   "nbconvert_exporter": "python",
   "pygments_lexer": "ipython3",
   "version": "3.9.7"
  }
 },
 "nbformat": 4,
 "nbformat_minor": 5
}
